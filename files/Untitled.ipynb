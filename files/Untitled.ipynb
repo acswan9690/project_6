{
 "cells": [
  {
   "cell_type": "markdown",
   "id": "82b8e446-30e3-48a7-96dd-e6a43c88be5d",
   "metadata": {
    "tags": []
   },
   "source": [
    "### Spending Prediction\n",
    "---"
   ]
  },
  {
   "cell_type": "markdown",
   "id": "7ae6f431-2b67-4b7f-a1df-d34cc412c154",
   "metadata": {},
   "source": [
    "Based on the collected data, can we predict the spending of our users?"
   ]
  },
  {
   "cell_type": "code",
   "execution_count": 226,
   "id": "12d03b8c-ebeb-4ba9-a08e-32ed60a08a1f",
   "metadata": {},
   "outputs": [],
   "source": [
    "X = df.drop(columns=['total_spent', 'mntwines', 'mntfruits', 'mntmeatproducts', 'mntfishproducts', 'mntsweetproducts', 'mntgoldprods', 'clusters'])\n",
    "y = df['total_spent']"
   ]
  },
  {
   "cell_type": "code",
   "execution_count": 227,
   "id": "8e040737-a0de-41b0-b2ea-561c5fd621db",
   "metadata": {},
   "outputs": [],
   "source": [
    "X_train, X_test, y_train, y_test = train_test_split(X, y, random_state = 42)"
   ]
  },
  {
   "cell_type": "code",
   "execution_count": 228,
   "id": "2017759b-c635-48ee-8cb8-3f573f67a3aa",
   "metadata": {},
   "outputs": [],
   "source": [
    "X_train_sc = sc.fit_transform(X_train)\n",
    "X_test_sc = sc.transform(X_test)"
   ]
  },
  {
   "cell_type": "markdown",
   "id": "40dbf036-3aa7-44c0-be29-bd9f00b8a769",
   "metadata": {},
   "source": [
    "### Random Forest Regressor"
   ]
  },
  {
   "cell_type": "code",
   "execution_count": 229,
   "id": "139ad63e-2708-42e7-811a-f10f28adb410",
   "metadata": {},
   "outputs": [
    {
     "name": "stdout",
     "output_type": "stream",
     "text": [
      "0.9835118069616272\n"
     ]
    },
    {
     "data": {
      "text/plain": [
       "0.8885446750035839"
      ]
     },
     "execution_count": 229,
     "metadata": {},
     "output_type": "execute_result"
    }
   ],
   "source": [
    "rf = RandomForestRegressor(n_jobs=-1)\n",
    "rf.fit(X_train_sc, y_train)\n",
    "print(rf.score(X_train_sc, y_train))\n",
    "rf.score(X_test_sc, y_test)"
   ]
  },
  {
   "cell_type": "code",
   "execution_count": 232,
   "id": "5beb9035-354a-40ca-9391-93e34c9b0f99",
   "metadata": {},
   "outputs": [
    {
     "name": "stdout",
     "output_type": "stream",
     "text": [
      "Train MSE: \n",
      "6006.646685467539\n",
      "Train RMSE: \n",
      "77.50255921882541\n"
     ]
    }
   ],
   "source": [
    "#train MSE & RMSE\n",
    "\n",
    "y_pred = rf.predict(X_train_sc)\n",
    "print(\"Train MSE: \")\n",
    "print(mean_squared_error(y_train, y_pred))\n",
    "print(\"Train RMSE: \")\n",
    "print(np.sqrt(mean_squared_error(y_train, y_pred)))"
   ]
  },
  {
   "cell_type": "code",
   "execution_count": 233,
   "id": "e53ee90a-5e61-463d-87bc-4a103397b082",
   "metadata": {},
   "outputs": [
    {
     "name": "stdout",
     "output_type": "stream",
     "text": [
      "Test MSE: \n",
      "39640.09196303572\n",
      "Test RMSE: \n",
      "199.0981967849928\n"
     ]
    }
   ],
   "source": [
    "# test MSE & RMSE\n",
    "\n",
    "y_pred = rf.predict(X_test_sc)\n",
    "print(\"Test MSE: \")\n",
    "print(mean_squared_error(y_test, y_pred))\n",
    "print(\"Test RMSE: \")\n",
    "print(np.sqrt(mean_squared_error(y_test, y_pred)))"
   ]
  },
  {
   "cell_type": "markdown",
   "id": "c140a6b9-d8c2-4ef8-a7b4-b888ec70e947",
   "metadata": {},
   "source": [
    "Let's check out our feature importances from the random forest regressor model:"
   ]
  },
  {
   "cell_type": "code",
   "execution_count": 239,
   "id": "ab8ae513-a184-4916-b927-8c7e2079dacd",
   "metadata": {},
   "outputs": [],
   "source": [
    "rf_preds = rf.predict(X_test)"
   ]
  },
  {
   "cell_type": "code",
   "execution_count": 240,
   "id": "dbe687ae-0fbf-488c-a089-7fad5a187beb",
   "metadata": {},
   "outputs": [
    {
     "data": {
      "text/plain": [
       "array([1.08633857e-02, 2.21860949e-01, 7.05372208e-04, 2.81417940e-03,\n",
       "       1.16238404e-02, 3.39358445e-03, 2.36059085e-02, 5.41099496e-01,\n",
       "       9.65868480e-02, 1.27149521e-02, 9.66737574e-04, 1.33992422e-03,\n",
       "       5.30887263e-03, 8.28201299e-04, 1.90191583e-04, 3.48964242e-05,\n",
       "       1.98045771e-03, 2.21060604e-02, 6.43234935e-03, 9.89099206e-03,\n",
       "       9.38665215e-04, 3.30505153e-03, 2.95263288e-04, 1.43182283e-02,\n",
       "       1.63912262e-03, 1.10444159e-05, 1.45023766e-03, 1.05850305e-03,\n",
       "       2.63668503e-03])"
      ]
     },
     "execution_count": 240,
     "metadata": {},
     "output_type": "execute_result"
    }
   ],
   "source": [
    "rf.feature_importances_"
   ]
  },
  {
   "cell_type": "markdown",
   "id": "f2d14b53-c81b-4777-b65b-d049e0ae556c",
   "metadata": {},
   "source": [
    "Interestingly, the number of catalog purchases was our highest determinant of spending.  This is a very unsual metric as printed media is not as popular as it once was.  However, our demographics show an older crowd so they may still prefer printed methods."
   ]
  },
  {
   "cell_type": "code",
   "execution_count": 241,
   "id": "43e39f7d-3d16-4f62-8683-564fa65a5d44",
   "metadata": {},
   "outputs": [
    {
     "data": {
      "text/html": [
       "<div>\n",
       "<style scoped>\n",
       "    .dataframe tbody tr th:only-of-type {\n",
       "        vertical-align: middle;\n",
       "    }\n",
       "\n",
       "    .dataframe tbody tr th {\n",
       "        vertical-align: top;\n",
       "    }\n",
       "\n",
       "    .dataframe thead th {\n",
       "        text-align: right;\n",
       "    }\n",
       "</style>\n",
       "<table border=\"1\" class=\"dataframe\">\n",
       "  <thead>\n",
       "    <tr style=\"text-align: right;\">\n",
       "      <th></th>\n",
       "      <th>0</th>\n",
       "    </tr>\n",
       "  </thead>\n",
       "  <tbody>\n",
       "    <tr>\n",
       "      <th>numcatalogpurchases</th>\n",
       "      <td>0.541099</td>\n",
       "    </tr>\n",
       "    <tr>\n",
       "      <th>income</th>\n",
       "      <td>0.221861</td>\n",
       "    </tr>\n",
       "    <tr>\n",
       "      <th>numstorepurchases</th>\n",
       "      <td>0.096587</td>\n",
       "    </tr>\n",
       "    <tr>\n",
       "      <th>numwebpurchases</th>\n",
       "      <td>0.023606</td>\n",
       "    </tr>\n",
       "    <tr>\n",
       "      <th>acc_age</th>\n",
       "      <td>0.022106</td>\n",
       "    </tr>\n",
       "    <tr>\n",
       "      <th>total_promos</th>\n",
       "      <td>0.014318</td>\n",
       "    </tr>\n",
       "    <tr>\n",
       "      <th>numwebvisitsmonth</th>\n",
       "      <td>0.012715</td>\n",
       "    </tr>\n",
       "    <tr>\n",
       "      <th>recency</th>\n",
       "      <td>0.011624</td>\n",
       "    </tr>\n",
       "    <tr>\n",
       "      <th>index</th>\n",
       "      <td>0.010863</td>\n",
       "    </tr>\n",
       "    <tr>\n",
       "      <th>age</th>\n",
       "      <td>0.009891</td>\n",
       "    </tr>\n",
       "    <tr>\n",
       "      <th>total_children</th>\n",
       "      <td>0.006432</td>\n",
       "    </tr>\n",
       "    <tr>\n",
       "      <th>acceptedcmp5</th>\n",
       "      <td>0.005309</td>\n",
       "    </tr>\n",
       "    <tr>\n",
       "      <th>numdealspurchases</th>\n",
       "      <td>0.003394</td>\n",
       "    </tr>\n",
       "    <tr>\n",
       "      <th>household_size</th>\n",
       "      <td>0.003305</td>\n",
       "    </tr>\n",
       "    <tr>\n",
       "      <th>teenhome</th>\n",
       "      <td>0.002814</td>\n",
       "    </tr>\n",
       "    <tr>\n",
       "      <th>education_PhD</th>\n",
       "      <td>0.002637</td>\n",
       "    </tr>\n",
       "    <tr>\n",
       "      <th>response</th>\n",
       "      <td>0.001980</td>\n",
       "    </tr>\n",
       "    <tr>\n",
       "      <th>education_2n Cycle</th>\n",
       "      <td>0.001639</td>\n",
       "    </tr>\n",
       "    <tr>\n",
       "      <th>education_Graduation</th>\n",
       "      <td>0.001450</td>\n",
       "    </tr>\n",
       "    <tr>\n",
       "      <th>acceptedcmp4</th>\n",
       "      <td>0.001340</td>\n",
       "    </tr>\n",
       "    <tr>\n",
       "      <th>education_Master</th>\n",
       "      <td>0.001059</td>\n",
       "    </tr>\n",
       "    <tr>\n",
       "      <th>acceptedcmp3</th>\n",
       "      <td>0.000967</td>\n",
       "    </tr>\n",
       "    <tr>\n",
       "      <th>partner</th>\n",
       "      <td>0.000939</td>\n",
       "    </tr>\n",
       "    <tr>\n",
       "      <th>acceptedcmp1</th>\n",
       "      <td>0.000828</td>\n",
       "    </tr>\n",
       "    <tr>\n",
       "      <th>kidhome</th>\n",
       "      <td>0.000705</td>\n",
       "    </tr>\n",
       "    <tr>\n",
       "      <th>parent</th>\n",
       "      <td>0.000295</td>\n",
       "    </tr>\n",
       "    <tr>\n",
       "      <th>acceptedcmp2</th>\n",
       "      <td>0.000190</td>\n",
       "    </tr>\n",
       "    <tr>\n",
       "      <th>complain</th>\n",
       "      <td>0.000035</td>\n",
       "    </tr>\n",
       "    <tr>\n",
       "      <th>education_Basic</th>\n",
       "      <td>0.000011</td>\n",
       "    </tr>\n",
       "  </tbody>\n",
       "</table>\n",
       "</div>"
      ],
      "text/plain": [
       "                             0\n",
       "numcatalogpurchases   0.541099\n",
       "income                0.221861\n",
       "numstorepurchases     0.096587\n",
       "numwebpurchases       0.023606\n",
       "acc_age               0.022106\n",
       "total_promos          0.014318\n",
       "numwebvisitsmonth     0.012715\n",
       "recency               0.011624\n",
       "index                 0.010863\n",
       "age                   0.009891\n",
       "total_children        0.006432\n",
       "acceptedcmp5          0.005309\n",
       "numdealspurchases     0.003394\n",
       "household_size        0.003305\n",
       "teenhome              0.002814\n",
       "education_PhD         0.002637\n",
       "response              0.001980\n",
       "education_2n Cycle    0.001639\n",
       "education_Graduation  0.001450\n",
       "acceptedcmp4          0.001340\n",
       "education_Master      0.001059\n",
       "acceptedcmp3          0.000967\n",
       "partner               0.000939\n",
       "acceptedcmp1          0.000828\n",
       "kidhome               0.000705\n",
       "parent                0.000295\n",
       "acceptedcmp2          0.000190\n",
       "complain              0.000035\n",
       "education_Basic       0.000011"
      ]
     },
     "execution_count": 241,
     "metadata": {},
     "output_type": "execute_result"
    }
   ],
   "source": [
    "feature_df = pd.DataFrame(rf.feature_importances_, index=X.columns)\n",
    "feature_df.sort_values(by=0, ascending=False)"
   ]
  },
  {
   "cell_type": "code",
   "execution_count": 230,
   "id": "536cd64c-2bde-4945-b36d-1eb1106cb69e",
   "metadata": {},
   "outputs": [
    {
     "name": "stdout",
     "output_type": "stream",
     "text": [
      "0.8618082823426464\n"
     ]
    },
    {
     "data": {
      "text/plain": [
       "0.7626471693459378"
      ]
     },
     "execution_count": 230,
     "metadata": {},
     "output_type": "execute_result"
    }
   ],
   "source": [
    "knnr = KNeighborsRegressor(n_jobs=-1)\n",
    "knnr.fit(X_train_sc, y_train)\n",
    "print(knnr.score(X_train_sc, y_train))\n",
    "knnr.score(X_test_sc, y_test)"
   ]
  },
  {
   "cell_type": "code",
   "execution_count": 231,
   "id": "4b5c88eb-a0df-48fa-b34b-fc156943bed5",
   "metadata": {},
   "outputs": [
    {
     "name": "stdout",
     "output_type": "stream",
     "text": [
      "0.9775560680575489\n"
     ]
    },
    {
     "data": {
      "text/plain": [
       "0.8732604688016585"
      ]
     },
     "execution_count": 231,
     "metadata": {},
     "output_type": "execute_result"
    }
   ],
   "source": [
    "br = BaggingRegressor(n_jobs=-1)\n",
    "br.fit(X_train_sc, y_train)\n",
    "print(br.score(X_train_sc, y_train))\n",
    "br.score(X_test_sc, y_test)"
   ]
  },
  {
   "cell_type": "code",
   "execution_count": 238,
   "id": "8526f865-a5a1-4b5f-aedd-1e0631b88375",
   "metadata": {},
   "outputs": [
    {
     "data": {
      "text/plain": [
       "0.8885446750035839"
      ]
     },
     "execution_count": 238,
     "metadata": {},
     "output_type": "execute_result"
    }
   ],
   "source": [
    "y_pred = rf.predict(X_test_sc)\n",
    "r2_score(y_test, y_pred)"
   ]
  },
  {
   "cell_type": "code",
   "execution_count": 234,
   "id": "699bb9b8-1f33-4956-aadd-064b82afbe35",
   "metadata": {},
   "outputs": [
    {
     "name": "stdout",
     "output_type": "stream",
     "text": [
      "Train MSE: \n",
      "8176.321631923764\n",
      "Train RMSE: \n",
      "90.4230149459957\n"
     ]
    }
   ],
   "source": [
    "#train MSE\n",
    "\n",
    "y_pred = br.predict(X_train_sc)\n",
    "print(\"Train MSE: \")\n",
    "print(mean_squared_error(y_train, y_pred))\n",
    "print(\"Train RMSE: \")\n",
    "print(np.sqrt(mean_squared_error(y_train, y_pred)))"
   ]
  },
  {
   "cell_type": "code",
   "execution_count": 235,
   "id": "0f868d02-5641-409a-a9f3-ac33df11355f",
   "metadata": {},
   "outputs": [
    {
     "name": "stdout",
     "output_type": "stream",
     "text": [
      "Test MSE: \n",
      "45076.05780357142\n",
      "Test RMSE: \n",
      "212.31122863280552\n"
     ]
    }
   ],
   "source": [
    "# test MSE\n",
    "\n",
    "y_pred = br.predict(X_test_sc)\n",
    "print(\"Test MSE: \")\n",
    "print(mean_squared_error(y_test, y_pred))\n",
    "print(\"Test RMSE: \")\n",
    "print(np.sqrt(mean_squared_error(y_test, y_pred)))"
   ]
  }
 ],
 "metadata": {
  "kernelspec": {
   "display_name": "Python 3",
   "language": "python",
   "name": "python3"
  },
  "language_info": {
   "codemirror_mode": {
    "name": "ipython",
    "version": 3
   },
   "file_extension": ".py",
   "mimetype": "text/x-python",
   "name": "python",
   "nbconvert_exporter": "python",
   "pygments_lexer": "ipython3",
   "version": "3.8.8"
  }
 },
 "nbformat": 4,
 "nbformat_minor": 5
}
