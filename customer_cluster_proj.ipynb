{
 "cells": [
  {
   "cell_type": "markdown",
   "id": "7446e91a-3c3f-4eaf-81b4-02445220cab2",
   "metadata": {},
   "source": [
    "# Customer Clustering and Spending Predictions\n",
    "---"
   ]
  },
  {
   "cell_type": "code",
   "execution_count": 95,
   "id": "f6e5c73e-63d6-4ef9-990b-f6a5caeddc41",
   "metadata": {},
   "outputs": [],
   "source": [
    "import pandas as pd\n",
    "import numpy as np\n",
    "import matplotlib.pyplot as plt\n",
    "%matplotlib inline\n",
    "import seaborn as sns\n",
    "\n",
    "from sklearn.preprocessing import StandardScaler\n",
    "from sklearn.decomposition import PCA\n",
    "from sklearn import metrics\n",
    "from sklearn.cluster import KMeans\n",
    "from sklearn.cluster import AgglomerativeClustering\n",
    "from sklearn.model_selection import train_test_split, GridSearchCV\n",
    "from sklearn.linear_model import LinearRegression\n",
    "from sklearn.ensemble import RandomForestRegressor, BaggingRegressor\n",
    "from sklearn.neighbors import KNeighborsRegressor\n",
    "from sklearn.pipeline import Pipeline\n",
    "from sklearn.metrics import r2_score, mean_squared_error\n",
    "\n",
    "from yellowbrick.cluster import KElbowVisualizer"
   ]
  },
  {
   "cell_type": "markdown",
   "id": "bf7b2a6b-f2a9-447c-8681-23ed882c9ece",
   "metadata": {},
   "source": [
    "### Initial Data and Cleaning\n",
    "---"
   ]
  },
  {
   "cell_type": "code",
   "execution_count": 96,
   "id": "218397ab-1088-482b-ac0d-e3c0e9d2b5cd",
   "metadata": {},
   "outputs": [
    {
     "data": {
      "text/html": [
       "<div>\n",
       "<style scoped>\n",
       "    .dataframe tbody tr th:only-of-type {\n",
       "        vertical-align: middle;\n",
       "    }\n",
       "\n",
       "    .dataframe tbody tr th {\n",
       "        vertical-align: top;\n",
       "    }\n",
       "\n",
       "    .dataframe thead th {\n",
       "        text-align: right;\n",
       "    }\n",
       "</style>\n",
       "<table border=\"1\" class=\"dataframe\">\n",
       "  <thead>\n",
       "    <tr style=\"text-align: right;\">\n",
       "      <th></th>\n",
       "      <th>ID</th>\n",
       "      <th>Year_Birth</th>\n",
       "      <th>Education</th>\n",
       "      <th>Marital_Status</th>\n",
       "      <th>Income</th>\n",
       "      <th>Kidhome</th>\n",
       "      <th>Teenhome</th>\n",
       "      <th>Dt_Customer</th>\n",
       "      <th>Recency</th>\n",
       "      <th>MntWines</th>\n",
       "      <th>...</th>\n",
       "      <th>NumWebVisitsMonth</th>\n",
       "      <th>AcceptedCmp3</th>\n",
       "      <th>AcceptedCmp4</th>\n",
       "      <th>AcceptedCmp5</th>\n",
       "      <th>AcceptedCmp1</th>\n",
       "      <th>AcceptedCmp2</th>\n",
       "      <th>Complain</th>\n",
       "      <th>Z_CostContact</th>\n",
       "      <th>Z_Revenue</th>\n",
       "      <th>Response</th>\n",
       "    </tr>\n",
       "  </thead>\n",
       "  <tbody>\n",
       "    <tr>\n",
       "      <th>0</th>\n",
       "      <td>5524</td>\n",
       "      <td>1957</td>\n",
       "      <td>Graduation</td>\n",
       "      <td>Single</td>\n",
       "      <td>58138.0</td>\n",
       "      <td>0</td>\n",
       "      <td>0</td>\n",
       "      <td>04-09-2012</td>\n",
       "      <td>58</td>\n",
       "      <td>635</td>\n",
       "      <td>...</td>\n",
       "      <td>7</td>\n",
       "      <td>0</td>\n",
       "      <td>0</td>\n",
       "      <td>0</td>\n",
       "      <td>0</td>\n",
       "      <td>0</td>\n",
       "      <td>0</td>\n",
       "      <td>3</td>\n",
       "      <td>11</td>\n",
       "      <td>1</td>\n",
       "    </tr>\n",
       "    <tr>\n",
       "      <th>1</th>\n",
       "      <td>2174</td>\n",
       "      <td>1954</td>\n",
       "      <td>Graduation</td>\n",
       "      <td>Single</td>\n",
       "      <td>46344.0</td>\n",
       "      <td>1</td>\n",
       "      <td>1</td>\n",
       "      <td>08-03-2014</td>\n",
       "      <td>38</td>\n",
       "      <td>11</td>\n",
       "      <td>...</td>\n",
       "      <td>5</td>\n",
       "      <td>0</td>\n",
       "      <td>0</td>\n",
       "      <td>0</td>\n",
       "      <td>0</td>\n",
       "      <td>0</td>\n",
       "      <td>0</td>\n",
       "      <td>3</td>\n",
       "      <td>11</td>\n",
       "      <td>0</td>\n",
       "    </tr>\n",
       "    <tr>\n",
       "      <th>2</th>\n",
       "      <td>4141</td>\n",
       "      <td>1965</td>\n",
       "      <td>Graduation</td>\n",
       "      <td>Together</td>\n",
       "      <td>71613.0</td>\n",
       "      <td>0</td>\n",
       "      <td>0</td>\n",
       "      <td>21-08-2013</td>\n",
       "      <td>26</td>\n",
       "      <td>426</td>\n",
       "      <td>...</td>\n",
       "      <td>4</td>\n",
       "      <td>0</td>\n",
       "      <td>0</td>\n",
       "      <td>0</td>\n",
       "      <td>0</td>\n",
       "      <td>0</td>\n",
       "      <td>0</td>\n",
       "      <td>3</td>\n",
       "      <td>11</td>\n",
       "      <td>0</td>\n",
       "    </tr>\n",
       "    <tr>\n",
       "      <th>3</th>\n",
       "      <td>6182</td>\n",
       "      <td>1984</td>\n",
       "      <td>Graduation</td>\n",
       "      <td>Together</td>\n",
       "      <td>26646.0</td>\n",
       "      <td>1</td>\n",
       "      <td>0</td>\n",
       "      <td>10-02-2014</td>\n",
       "      <td>26</td>\n",
       "      <td>11</td>\n",
       "      <td>...</td>\n",
       "      <td>6</td>\n",
       "      <td>0</td>\n",
       "      <td>0</td>\n",
       "      <td>0</td>\n",
       "      <td>0</td>\n",
       "      <td>0</td>\n",
       "      <td>0</td>\n",
       "      <td>3</td>\n",
       "      <td>11</td>\n",
       "      <td>0</td>\n",
       "    </tr>\n",
       "    <tr>\n",
       "      <th>4</th>\n",
       "      <td>5324</td>\n",
       "      <td>1981</td>\n",
       "      <td>PhD</td>\n",
       "      <td>Married</td>\n",
       "      <td>58293.0</td>\n",
       "      <td>1</td>\n",
       "      <td>0</td>\n",
       "      <td>19-01-2014</td>\n",
       "      <td>94</td>\n",
       "      <td>173</td>\n",
       "      <td>...</td>\n",
       "      <td>5</td>\n",
       "      <td>0</td>\n",
       "      <td>0</td>\n",
       "      <td>0</td>\n",
       "      <td>0</td>\n",
       "      <td>0</td>\n",
       "      <td>0</td>\n",
       "      <td>3</td>\n",
       "      <td>11</td>\n",
       "      <td>0</td>\n",
       "    </tr>\n",
       "  </tbody>\n",
       "</table>\n",
       "<p>5 rows × 29 columns</p>\n",
       "</div>"
      ],
      "text/plain": [
       "     ID  Year_Birth   Education Marital_Status   Income  Kidhome  Teenhome  \\\n",
       "0  5524        1957  Graduation         Single  58138.0        0         0   \n",
       "1  2174        1954  Graduation         Single  46344.0        1         1   \n",
       "2  4141        1965  Graduation       Together  71613.0        0         0   \n",
       "3  6182        1984  Graduation       Together  26646.0        1         0   \n",
       "4  5324        1981         PhD        Married  58293.0        1         0   \n",
       "\n",
       "  Dt_Customer  Recency  MntWines  ...  NumWebVisitsMonth  AcceptedCmp3  \\\n",
       "0  04-09-2012       58       635  ...                  7             0   \n",
       "1  08-03-2014       38        11  ...                  5             0   \n",
       "2  21-08-2013       26       426  ...                  4             0   \n",
       "3  10-02-2014       26        11  ...                  6             0   \n",
       "4  19-01-2014       94       173  ...                  5             0   \n",
       "\n",
       "   AcceptedCmp4  AcceptedCmp5  AcceptedCmp1  AcceptedCmp2  Complain  \\\n",
       "0             0             0             0             0         0   \n",
       "1             0             0             0             0         0   \n",
       "2             0             0             0             0         0   \n",
       "3             0             0             0             0         0   \n",
       "4             0             0             0             0         0   \n",
       "\n",
       "   Z_CostContact  Z_Revenue  Response  \n",
       "0              3         11         1  \n",
       "1              3         11         0  \n",
       "2              3         11         0  \n",
       "3              3         11         0  \n",
       "4              3         11         0  \n",
       "\n",
       "[5 rows x 29 columns]"
      ]
     },
     "execution_count": 96,
     "metadata": {},
     "output_type": "execute_result"
    }
   ],
   "source": [
    "df = pd.read_csv('./data/marketing_campaign.csv', delimiter='\\t')\n",
    "df.head()"
   ]
  },
  {
   "cell_type": "code",
   "execution_count": 97,
   "id": "14906487-1754-4888-9b83-ccc48e9a92d4",
   "metadata": {},
   "outputs": [
    {
     "data": {
      "text/plain": [
       "(2240, 29)"
      ]
     },
     "execution_count": 97,
     "metadata": {},
     "output_type": "execute_result"
    }
   ],
   "source": [
    "df.shape"
   ]
  },
  {
   "cell_type": "markdown",
   "id": "4be918c9-572b-463f-8c76-595601814e6b",
   "metadata": {},
   "source": [
    "All data is accounted for except income.  To keep it simple, we will impute the mean into missing income."
   ]
  },
  {
   "cell_type": "code",
   "execution_count": 98,
   "id": "438bda98-3bf2-4a30-ae8a-86d79954a0f0",
   "metadata": {},
   "outputs": [
    {
     "name": "stdout",
     "output_type": "stream",
     "text": [
      "<class 'pandas.core.frame.DataFrame'>\n",
      "RangeIndex: 2240 entries, 0 to 2239\n",
      "Data columns (total 29 columns):\n",
      " #   Column               Non-Null Count  Dtype  \n",
      "---  ------               --------------  -----  \n",
      " 0   ID                   2240 non-null   int64  \n",
      " 1   Year_Birth           2240 non-null   int64  \n",
      " 2   Education            2240 non-null   object \n",
      " 3   Marital_Status       2240 non-null   object \n",
      " 4   Income               2216 non-null   float64\n",
      " 5   Kidhome              2240 non-null   int64  \n",
      " 6   Teenhome             2240 non-null   int64  \n",
      " 7   Dt_Customer          2240 non-null   object \n",
      " 8   Recency              2240 non-null   int64  \n",
      " 9   MntWines             2240 non-null   int64  \n",
      " 10  MntFruits            2240 non-null   int64  \n",
      " 11  MntMeatProducts      2240 non-null   int64  \n",
      " 12  MntFishProducts      2240 non-null   int64  \n",
      " 13  MntSweetProducts     2240 non-null   int64  \n",
      " 14  MntGoldProds         2240 non-null   int64  \n",
      " 15  NumDealsPurchases    2240 non-null   int64  \n",
      " 16  NumWebPurchases      2240 non-null   int64  \n",
      " 17  NumCatalogPurchases  2240 non-null   int64  \n",
      " 18  NumStorePurchases    2240 non-null   int64  \n",
      " 19  NumWebVisitsMonth    2240 non-null   int64  \n",
      " 20  AcceptedCmp3         2240 non-null   int64  \n",
      " 21  AcceptedCmp4         2240 non-null   int64  \n",
      " 22  AcceptedCmp5         2240 non-null   int64  \n",
      " 23  AcceptedCmp1         2240 non-null   int64  \n",
      " 24  AcceptedCmp2         2240 non-null   int64  \n",
      " 25  Complain             2240 non-null   int64  \n",
      " 26  Z_CostContact        2240 non-null   int64  \n",
      " 27  Z_Revenue            2240 non-null   int64  \n",
      " 28  Response             2240 non-null   int64  \n",
      "dtypes: float64(1), int64(25), object(3)\n",
      "memory usage: 507.6+ KB\n"
     ]
    }
   ],
   "source": [
    "df.info()"
   ]
  },
  {
   "cell_type": "markdown",
   "id": "a1495267-cf05-4b87-98b8-680d62c39bbb",
   "metadata": {},
   "source": [
    "As a personal preference I will make all column names lower case for easier typing."
   ]
  },
  {
   "cell_type": "code",
   "execution_count": 99,
   "id": "6b759186-18fa-4f9e-9bd5-e2ef2a7a8de7",
   "metadata": {},
   "outputs": [],
   "source": [
    "df.columns = [x.lower() for x in df.columns]"
   ]
  },
  {
   "cell_type": "code",
   "execution_count": 100,
   "id": "bfe3daab-8b7d-4a49-baaf-bf38be41995a",
   "metadata": {},
   "outputs": [
    {
     "data": {
      "text/plain": [
       "52247.25135379061"
      ]
     },
     "execution_count": 100,
     "metadata": {},
     "output_type": "execute_result"
    }
   ],
   "source": [
    "mean_income = df['income'].mean()\n",
    "mean_income"
   ]
  },
  {
   "cell_type": "code",
   "execution_count": 101,
   "id": "ba564d6b-3748-4763-b012-e417889e7da8",
   "metadata": {},
   "outputs": [],
   "source": [
    "df['income'].fillna(mean_income, inplace=True)"
   ]
  },
  {
   "cell_type": "markdown",
   "id": "df35d154-8d35-4ccd-8f6e-d9848935b047",
   "metadata": {},
   "source": [
    "### Feature Engineering\n",
    "---"
   ]
  },
  {
   "cell_type": "markdown",
   "id": "257cdabf-6851-4efc-b599-3af7ff617f4a",
   "metadata": {},
   "source": [
    "Features to engineer:\n",
    "1. Customer involvement duration - how long has a customer been enrolled with the company\n",
    "2. Total dependants - combined teens and children\n",
    "3. Total spent - total amount spent across all categories\n",
    "4. Customer age - how old the customer is\n",
    "5. Partners - determine if the person is single or living with someone.\n",
    "6. Total household size - total number of people in the household including parterns and children\n",
    "7. Parental status - boolean column to identify parents\n",
    "8. Total promos - total number of promotions accepted"
   ]
  },
  {
   "cell_type": "markdown",
   "id": "b03d3bfd-c0be-4776-a9bd-5713e47fbe21",
   "metadata": {},
   "source": [
    "First we must convert out 'dt_customer' column to proper datetime format."
   ]
  },
  {
   "cell_type": "code",
   "execution_count": 102,
   "id": "91707f70-347d-4313-88e6-22d169da08ff",
   "metadata": {},
   "outputs": [],
   "source": [
    "df['dt_customer'] = pd.to_datetime(df['dt_customer'])"
   ]
  },
  {
   "cell_type": "markdown",
   "id": "eb21e551-24d3-475d-8318-ad733d9f6920",
   "metadata": {},
   "source": [
    "In order to get the account's age, we will subtract each account creation date from the newest account's date."
   ]
  },
  {
   "cell_type": "code",
   "execution_count": 103,
   "id": "6bd32518-83ab-4cfe-a3a9-0ded5a6fd0c8",
   "metadata": {},
   "outputs": [
    {
     "data": {
      "text/plain": [
       "Timestamp('2014-12-06 00:00:00')"
      ]
     },
     "execution_count": 103,
     "metadata": {},
     "output_type": "execute_result"
    }
   ],
   "source": [
    "newest_acc = df['dt_customer'].max()\n",
    "newest_acc"
   ]
  },
  {
   "cell_type": "markdown",
   "id": "6f3da250-c85e-49d1-aeb0-6fab9d26b040",
   "metadata": {},
   "source": [
    "Loop through every account's creation date and subract the newest account's date to get the age of the account."
   ]
  },
  {
   "cell_type": "code",
   "execution_count": 104,
   "id": "582ded91-7c6e-4398-99c2-3ada1ddcfd94",
   "metadata": {},
   "outputs": [],
   "source": [
    "acc_age = []\n",
    "for i in df['dt_customer']:\n",
    "    diff = newest_acc - i\n",
    "    acc_age.append(diff)\n",
    "\n",
    "df['acc_age'] = acc_age\n",
    "df['acc_age'] = pd.to_numeric(df['acc_age'].dt.days, downcast='integer')"
   ]
  },
  {
   "cell_type": "markdown",
   "id": "e5217c80-db60-4fe8-ab2a-ef2108979f43",
   "metadata": {},
   "source": [
    "Let's check the column to make sure it's displaying properly.  Looks good!"
   ]
  },
  {
   "cell_type": "code",
   "execution_count": 105,
   "id": "3c86df22-e13b-4474-9a7e-5c360f33fb74",
   "metadata": {},
   "outputs": [
    {
     "data": {
      "text/plain": [
       "0       971\n",
       "1       125\n",
       "2       472\n",
       "3        65\n",
       "4       321\n",
       "       ... \n",
       "2235    541\n",
       "2236     61\n",
       "2237    315\n",
       "2238    316\n",
       "2239    782\n",
       "Name: acc_age, Length: 2240, dtype: int16"
      ]
     },
     "execution_count": 105,
     "metadata": {},
     "output_type": "execute_result"
    }
   ],
   "source": [
    "df['acc_age']"
   ]
  },
  {
   "cell_type": "markdown",
   "id": "2c682c8b-0c0c-448f-af16-f2e7de7b92e0",
   "metadata": {},
   "source": [
    "Next we will engineer the remainder of our features."
   ]
  },
  {
   "cell_type": "code",
   "execution_count": 106,
   "id": "f6a69536-4a7d-4c6c-b0eb-98b93001b241",
   "metadata": {},
   "outputs": [],
   "source": [
    "# total combined number of children (children plus teens)\n",
    "df['total_children'] = df['kidhome'] + df['teenhome']\n",
    "\n",
    "# total spent across all product categories\n",
    "df['total_spent'] = df['mntwines'] + df['mntfruits'] + df['mntmeatproducts'] + df['mntfishproducts'] + df['mntsweetproducts'] + df['mntgoldprods']\n",
    "\n",
    "# user's age\n",
    "df['age'] = 2021 - df['year_birth']\n",
    "\n",
    "# whether the person is living alone or with a partner (not including children)\n",
    "df['partner'] = df['marital_status'].replace({'Married':1, 'Together':1, 'Absurd':0, 'Widow':0, 'YOLO':0, 'Divorced':0, 'Single':0, 'Alone': 0})\n",
    "df['partner'] = [int(x) for x in df['partner']]\n",
    "\n",
    "# total number of people in the household including the user, potential partner, and/or children\n",
    "df['household_size'] = df['partner'].replace({1:2, 0:1}) + df['total_children']\n",
    "\n",
    "# a boolean column identifying whether the person is a parent or not\n",
    "df['parent'] = np.where(df['total_children'] > 1, 1, 0)\n",
    "\n",
    "# total number of promotions accepted\n",
    "df[\"total_promos\"] = df[\"acceptedcmp1\"]+ df[\"acceptedcmp2\"]+ df[\"acceptedcmp3\"]+ df[\"acceptedcmp4\"]+ df[\"acceptedcmp5\"]"
   ]
  },
  {
   "cell_type": "markdown",
   "id": "e604910c-d10c-4419-9db4-9d4b6ebd6ce9",
   "metadata": {},
   "source": [
    "Finally, we'll drop some redudant columns that no longer serve a purpose now that we've engineered some to be more useful features."
   ]
  },
  {
   "cell_type": "code",
   "execution_count": 107,
   "id": "84d30f0f-4d26-45cb-849d-7a6c374f42c7",
   "metadata": {},
   "outputs": [
    {
     "data": {
      "text/html": [
       "<div>\n",
       "<style scoped>\n",
       "    .dataframe tbody tr th:only-of-type {\n",
       "        vertical-align: middle;\n",
       "    }\n",
       "\n",
       "    .dataframe tbody tr th {\n",
       "        vertical-align: top;\n",
       "    }\n",
       "\n",
       "    .dataframe thead th {\n",
       "        text-align: right;\n",
       "    }\n",
       "</style>\n",
       "<table border=\"1\" class=\"dataframe\">\n",
       "  <thead>\n",
       "    <tr style=\"text-align: right;\">\n",
       "      <th></th>\n",
       "      <th>education</th>\n",
       "      <th>income</th>\n",
       "      <th>kidhome</th>\n",
       "      <th>teenhome</th>\n",
       "      <th>recency</th>\n",
       "      <th>mntwines</th>\n",
       "      <th>mntfruits</th>\n",
       "      <th>mntmeatproducts</th>\n",
       "      <th>mntfishproducts</th>\n",
       "      <th>mntsweetproducts</th>\n",
       "      <th>...</th>\n",
       "      <th>complain</th>\n",
       "      <th>response</th>\n",
       "      <th>acc_age</th>\n",
       "      <th>total_children</th>\n",
       "      <th>total_spent</th>\n",
       "      <th>age</th>\n",
       "      <th>partner</th>\n",
       "      <th>household_size</th>\n",
       "      <th>parent</th>\n",
       "      <th>total_promos</th>\n",
       "    </tr>\n",
       "  </thead>\n",
       "  <tbody>\n",
       "    <tr>\n",
       "      <th>0</th>\n",
       "      <td>Graduation</td>\n",
       "      <td>58138.0</td>\n",
       "      <td>0</td>\n",
       "      <td>0</td>\n",
       "      <td>58</td>\n",
       "      <td>635</td>\n",
       "      <td>88</td>\n",
       "      <td>546</td>\n",
       "      <td>172</td>\n",
       "      <td>88</td>\n",
       "      <td>...</td>\n",
       "      <td>0</td>\n",
       "      <td>1</td>\n",
       "      <td>971</td>\n",
       "      <td>0</td>\n",
       "      <td>1617</td>\n",
       "      <td>64</td>\n",
       "      <td>0</td>\n",
       "      <td>1</td>\n",
       "      <td>0</td>\n",
       "      <td>0</td>\n",
       "    </tr>\n",
       "    <tr>\n",
       "      <th>1</th>\n",
       "      <td>Graduation</td>\n",
       "      <td>46344.0</td>\n",
       "      <td>1</td>\n",
       "      <td>1</td>\n",
       "      <td>38</td>\n",
       "      <td>11</td>\n",
       "      <td>1</td>\n",
       "      <td>6</td>\n",
       "      <td>2</td>\n",
       "      <td>1</td>\n",
       "      <td>...</td>\n",
       "      <td>0</td>\n",
       "      <td>0</td>\n",
       "      <td>125</td>\n",
       "      <td>2</td>\n",
       "      <td>27</td>\n",
       "      <td>67</td>\n",
       "      <td>0</td>\n",
       "      <td>3</td>\n",
       "      <td>1</td>\n",
       "      <td>0</td>\n",
       "    </tr>\n",
       "    <tr>\n",
       "      <th>2</th>\n",
       "      <td>Graduation</td>\n",
       "      <td>71613.0</td>\n",
       "      <td>0</td>\n",
       "      <td>0</td>\n",
       "      <td>26</td>\n",
       "      <td>426</td>\n",
       "      <td>49</td>\n",
       "      <td>127</td>\n",
       "      <td>111</td>\n",
       "      <td>21</td>\n",
       "      <td>...</td>\n",
       "      <td>0</td>\n",
       "      <td>0</td>\n",
       "      <td>472</td>\n",
       "      <td>0</td>\n",
       "      <td>776</td>\n",
       "      <td>56</td>\n",
       "      <td>1</td>\n",
       "      <td>2</td>\n",
       "      <td>0</td>\n",
       "      <td>0</td>\n",
       "    </tr>\n",
       "    <tr>\n",
       "      <th>3</th>\n",
       "      <td>Graduation</td>\n",
       "      <td>26646.0</td>\n",
       "      <td>1</td>\n",
       "      <td>0</td>\n",
       "      <td>26</td>\n",
       "      <td>11</td>\n",
       "      <td>4</td>\n",
       "      <td>20</td>\n",
       "      <td>10</td>\n",
       "      <td>3</td>\n",
       "      <td>...</td>\n",
       "      <td>0</td>\n",
       "      <td>0</td>\n",
       "      <td>65</td>\n",
       "      <td>1</td>\n",
       "      <td>53</td>\n",
       "      <td>37</td>\n",
       "      <td>1</td>\n",
       "      <td>3</td>\n",
       "      <td>0</td>\n",
       "      <td>0</td>\n",
       "    </tr>\n",
       "    <tr>\n",
       "      <th>4</th>\n",
       "      <td>PhD</td>\n",
       "      <td>58293.0</td>\n",
       "      <td>1</td>\n",
       "      <td>0</td>\n",
       "      <td>94</td>\n",
       "      <td>173</td>\n",
       "      <td>43</td>\n",
       "      <td>118</td>\n",
       "      <td>46</td>\n",
       "      <td>27</td>\n",
       "      <td>...</td>\n",
       "      <td>0</td>\n",
       "      <td>0</td>\n",
       "      <td>321</td>\n",
       "      <td>1</td>\n",
       "      <td>422</td>\n",
       "      <td>40</td>\n",
       "      <td>1</td>\n",
       "      <td>3</td>\n",
       "      <td>0</td>\n",
       "      <td>0</td>\n",
       "    </tr>\n",
       "  </tbody>\n",
       "</table>\n",
       "<p>5 rows × 31 columns</p>\n",
       "</div>"
      ],
      "text/plain": [
       "    education   income  kidhome  teenhome  recency  mntwines  mntfruits  \\\n",
       "0  Graduation  58138.0        0         0       58       635         88   \n",
       "1  Graduation  46344.0        1         1       38        11          1   \n",
       "2  Graduation  71613.0        0         0       26       426         49   \n",
       "3  Graduation  26646.0        1         0       26        11          4   \n",
       "4         PhD  58293.0        1         0       94       173         43   \n",
       "\n",
       "   mntmeatproducts  mntfishproducts  mntsweetproducts  ...  complain  \\\n",
       "0              546              172                88  ...         0   \n",
       "1                6                2                 1  ...         0   \n",
       "2              127              111                21  ...         0   \n",
       "3               20               10                 3  ...         0   \n",
       "4              118               46                27  ...         0   \n",
       "\n",
       "   response  acc_age  total_children  total_spent  age  partner  \\\n",
       "0         1      971               0         1617   64        0   \n",
       "1         0      125               2           27   67        0   \n",
       "2         0      472               0          776   56        1   \n",
       "3         0       65               1           53   37        1   \n",
       "4         0      321               1          422   40        1   \n",
       "\n",
       "   household_size  parent  total_promos  \n",
       "0               1       0             0  \n",
       "1               3       1             0  \n",
       "2               2       0             0  \n",
       "3               3       0             0  \n",
       "4               3       0             0  \n",
       "\n",
       "[5 rows x 31 columns]"
      ]
     },
     "execution_count": 107,
     "metadata": {},
     "output_type": "execute_result"
    }
   ],
   "source": [
    "df.drop(columns=['marital_status', 'dt_customer', 'z_costcontact', 'z_revenue', 'year_birth', 'id'], inplace=True)\n",
    "df.head()"
   ]
  },
  {
   "cell_type": "markdown",
   "id": "f8a7db07-be79-465a-95c1-22a1dd0b1a8a",
   "metadata": {},
   "source": [
    "### EDA\n",
    "---"
   ]
  },
  {
   "cell_type": "markdown",
   "id": "c7cca3ac-66c3-4c11-b7f8-e0016ac00a9a",
   "metadata": {},
   "source": [
    "We have some very wealthy patrons throwing off our histogram, but we can see most of our users' incomes follow a relatively normal distribution between 0 and $100,000"
   ]
  },
  {
   "cell_type": "code",
   "execution_count": 108,
   "id": "deefcafe-5c56-4ff4-b399-82d015aec6eb",
   "metadata": {},
   "outputs": [
    {
     "data": {
      "text/plain": [
       "Index(['education', 'income', 'kidhome', 'teenhome', 'recency', 'mntwines',\n",
       "       'mntfruits', 'mntmeatproducts', 'mntfishproducts', 'mntsweetproducts',\n",
       "       'mntgoldprods', 'numdealspurchases', 'numwebpurchases',\n",
       "       'numcatalogpurchases', 'numstorepurchases', 'numwebvisitsmonth',\n",
       "       'acceptedcmp3', 'acceptedcmp4', 'acceptedcmp5', 'acceptedcmp1',\n",
       "       'acceptedcmp2', 'complain', 'response', 'acc_age', 'total_children',\n",
       "       'total_spent', 'age', 'partner', 'household_size', 'parent',\n",
       "       'total_promos'],\n",
       "      dtype='object')"
      ]
     },
     "execution_count": 108,
     "metadata": {},
     "output_type": "execute_result"
    }
   ],
   "source": [
    "df.columns"
   ]
  },
  {
   "cell_type": "code",
   "execution_count": 109,
   "id": "238c9681-af8e-4c01-a85a-be079d73b656",
   "metadata": {},
   "outputs": [],
   "source": [
    "cleaned_income = df[df['income'] < 200000]"
   ]
  },
  {
   "cell_type": "code",
   "execution_count": 110,
   "id": "335bb9b8-1cb9-4f37-9f03-ebe52016e7fb",
   "metadata": {},
   "outputs": [
    {
     "data": {
      "image/png": "[encoded data removed]",
      "text/plain": [
       "<Figure size 432x288 with 1 Axes>"
      ]
     },
     "metadata": {
      "needs_background": "light"
     },
     "output_type": "display_data"
    }
   ],
   "source": [
    "sns.histplot(cleaned_income['income'], kde=True);"
   ]
  },
  {
   "cell_type": "markdown",
   "id": "1e361df9-eb2d-4581-8239-72081d2011ba",
   "metadata": {},
   "source": [
    "A uniform distribution of the number of days between when a person purchased an item.  No clear pattern or bell curve here."
   ]
  },
  {
   "cell_type": "code",
   "execution_count": 111,
   "id": "996b7ce9-34b3-4b16-bf06-3fc7e9055935",
   "metadata": {},
   "outputs": [
    {
     "data": {
      "image/png": "[encoded data removed]",
      "text/plain": [
       "<Figure size 432x288 with 1 Axes>"
      ]
     },
     "metadata": {
      "needs_background": "light"
     },
     "output_type": "display_data"
    }
   ],
   "source": [
    "sns.histplot(df['recency']);"
   ]
  },
  {
   "cell_type": "markdown",
   "id": "f7e16f7b-dd1a-4802-b32a-931346b217ff",
   "metadata": {
    "tags": []
   },
   "source": [
    "Distribution of the total household size is relatively regular.  Most households are between 2 and 4 people indicating:\n",
    "1. Most users are couples or single parents with a single child\n",
    "2. Most users are a couple with multiple children or a single parent with multiple children"
   ]
  },
  {
   "cell_type": "code",
   "execution_count": 112,
   "id": "55f5b674-9444-4fb5-ab21-40de181ab61a",
   "metadata": {},
   "outputs": [
    {
     "data": {
      "image/png": "[encoded data removed]",
      "text/plain": [
       "<Figure size 432x288 with 1 Axes>"
      ]
     },
     "metadata": {
      "needs_background": "light"
     },
     "output_type": "display_data"
    }
   ],
   "source": [
    "sns.histplot(df['household_size'], bins=4);"
   ]
  },
  {
   "cell_type": "markdown",
   "id": "45bdb6c6-1bc2-4256-aa5d-abccf4240f5b",
   "metadata": {},
   "source": [
    "The distribution of age is not perfectly clear but we can see a vast majority of users are between 45-50 years old."
   ]
  },
  {
   "cell_type": "code",
   "execution_count": 113,
   "id": "deb9196c-c44a-4c3e-949e-5670223e4dbd",
   "metadata": {},
   "outputs": [
    {
     "data": {
      "image/png": "[encoded data removed]",
      "text/plain": [
       "<Figure size 432x288 with 1 Axes>"
      ]
     },
     "metadata": {
      "needs_background": "light"
     },
     "output_type": "display_data"
    }
   ],
   "source": [
    "sns.histplot(df['age'], kde=True);"
   ]
  },
  {
   "cell_type": "markdown",
   "id": "f75a697b-7dc1-4d4c-9d85-e3776db62677",
   "metadata": {},
   "source": [
    "Comparing income to spending and removing folks who make over 200k, we can see a logarithmic increase in spending as income goes up, peaking between those who make $80k - 100k\n",
    "\n",
    "For our modeling purposes later we will need to consider removing the additional income outliers above $120k."
   ]
  },
  {
   "cell_type": "code",
   "execution_count": 114,
   "id": "43622d95-8217-4272-8339-2485f27d8807",
   "metadata": {},
   "outputs": [
    {
     "data": {
      "image/png": "[encoded data removed]",
      "text/plain": [
       "<Figure size 432x288 with 1 Axes>"
      ]
     },
     "metadata": {
      "needs_background": "light"
     },
     "output_type": "display_data"
    }
   ],
   "source": [
    "plt.scatter(cleaned_income['income'], cleaned_income['total_spent']);"
   ]
  },
  {
   "cell_type": "markdown",
   "id": "9a66dd52-688a-4a97-a390-a93161c6246b",
   "metadata": {},
   "source": [
    "I'm curious if there are any correlation between people purchasing certain items together, so we'll make a heatmap and examine those possible correlations.  These may be disposable correlations since people likely tend to buy multiple items, but the strongest correlations we might want to consider are:\n",
    "1. Wine and meat\n",
    "2. Fruit and fish\n",
    "3. Fruit and sweets"
   ]
  },
  {
   "cell_type": "code",
   "execution_count": 115,
   "id": "d9286caa-639e-482d-919f-9c2b6bddbf02",
   "metadata": {},
   "outputs": [
    {
     "data": {
      "image/png": "[encoded data removed]",
      "text/plain": [
       "<Figure size 720x720 with 2 Axes>"
      ]
     },
     "metadata": {
      "needs_background": "light"
     },
     "output_type": "display_data"
    }
   ],
   "source": [
    "corrmat= df.iloc[:, 5:10].corr()\n",
    "plt.figure(figsize=(10,10))  \n",
    "sns.heatmap(corrmat,annot=True, cmap='winter', center=0);"
   ]
  },
  {
   "cell_type": "code",
   "execution_count": 116,
   "id": "f5407932-9672-4023-971c-ad6917eacec6",
   "metadata": {},
   "outputs": [],
   "source": [
    "df = df[df['income'] < 200000]"
   ]
  },
  {
   "cell_type": "code",
   "execution_count": 117,
   "id": "0cf864bc-3d18-4ba8-b262-f50987e8010d",
   "metadata": {},
   "outputs": [
    {
     "data": {
      "text/plain": [
       "(2239, 31)"
      ]
     },
     "execution_count": 117,
     "metadata": {},
     "output_type": "execute_result"
    }
   ],
   "source": [
    "df.shape"
   ]
  },
  {
   "cell_type": "code",
   "execution_count": 118,
   "id": "19214a96-46b9-4eb9-8e9b-e9046c7eb6c5",
   "metadata": {},
   "outputs": [],
   "source": [
    "df.reset_index(inplace=True)"
   ]
  },
  {
   "cell_type": "markdown",
   "id": "b246173c-6c1b-43fe-abc2-650fdc8d383b",
   "metadata": {},
   "source": [
    "### Pre-processing\n",
    "---"
   ]
  },
  {
   "cell_type": "markdown",
   "id": "95e82f5d-6969-4503-b500-895aefbdc57b",
   "metadata": {},
   "source": [
    "Before modeling there are a handful of things that need to happen:\n",
    "- Encode our non-numerical and categorical variables\n",
    "- Scale our data\n",
    "- Dimensionality reduction"
   ]
  },
  {
   "cell_type": "code",
   "execution_count": 119,
   "id": "68d07e19-c03e-4712-95ca-5734606892fc",
   "metadata": {},
   "outputs": [
    {
     "name": "stdout",
     "output_type": "stream",
     "text": [
      "<class 'pandas.core.frame.DataFrame'>\n",
      "RangeIndex: 2239 entries, 0 to 2238\n",
      "Data columns (total 32 columns):\n",
      " #   Column               Non-Null Count  Dtype  \n",
      "---  ------               --------------  -----  \n",
      " 0   index                2239 non-null   int64  \n",
      " 1   education            2239 non-null   object \n",
      " 2   income               2239 non-null   float64\n",
      " 3   kidhome              2239 non-null   int64  \n",
      " 4   teenhome             2239 non-null   int64  \n",
      " 5   recency              2239 non-null   int64  \n",
      " 6   mntwines             2239 non-null   int64  \n",
      " 7   mntfruits            2239 non-null   int64  \n",
      " 8   mntmeatproducts      2239 non-null   int64  \n",
      " 9   mntfishproducts      2239 non-null   int64  \n",
      " 10  mntsweetproducts     2239 non-null   int64  \n",
      " 11  mntgoldprods         2239 non-null   int64  \n",
      " 12  numdealspurchases    2239 non-null   int64  \n",
      " 13  numwebpurchases      2239 non-null   int64  \n",
      " 14  numcatalogpurchases  2239 non-null   int64  \n",
      " 15  numstorepurchases    2239 non-null   int64  \n",
      " 16  numwebvisitsmonth    2239 non-null   int64  \n",
      " 17  acceptedcmp3         2239 non-null   int64  \n",
      " 18  acceptedcmp4         2239 non-null   int64  \n",
      " 19  acceptedcmp5         2239 non-null   int64  \n",
      " 20  acceptedcmp1         2239 non-null   int64  \n",
      " 21  acceptedcmp2         2239 non-null   int64  \n",
      " 22  complain             2239 non-null   int64  \n",
      " 23  response             2239 non-null   int64  \n",
      " 24  acc_age              2239 non-null   int16  \n",
      " 25  total_children       2239 non-null   int64  \n",
      " 26  total_spent          2239 non-null   int64  \n",
      " 27  age                  2239 non-null   int64  \n",
      " 28  partner              2239 non-null   int64  \n",
      " 29  household_size       2239 non-null   int64  \n",
      " 30  parent               2239 non-null   int32  \n",
      " 31  total_promos         2239 non-null   int64  \n",
      "dtypes: float64(1), int16(1), int32(1), int64(28), object(1)\n",
      "memory usage: 538.0+ KB\n"
     ]
    }
   ],
   "source": [
    "df.info()"
   ]
  },
  {
   "cell_type": "markdown",
   "id": "301f99e3-b2c8-461e-887a-cb6a61196cee",
   "metadata": {},
   "source": [
    "Our only categorical column that needs to be dummied is income so we'll use Pandas' built in dummy feature to encode that column."
   ]
  },
  {
   "cell_type": "code",
   "execution_count": 120,
   "id": "9d2a2fbb-b3ad-4d31-9492-0dc585291c68",
   "metadata": {},
   "outputs": [
    {
     "data": {
      "text/html": [
       "<div>\n",
       "<style scoped>\n",
       "    .dataframe tbody tr th:only-of-type {\n",
       "        vertical-align: middle;\n",
       "    }\n",
       "\n",
       "    .dataframe tbody tr th {\n",
       "        vertical-align: top;\n",
       "    }\n",
       "\n",
       "    .dataframe thead th {\n",
       "        text-align: right;\n",
       "    }\n",
       "</style>\n",
       "<table border=\"1\" class=\"dataframe\">\n",
       "  <thead>\n",
       "    <tr style=\"text-align: right;\">\n",
       "      <th></th>\n",
       "      <th>index</th>\n",
       "      <th>income</th>\n",
       "      <th>kidhome</th>\n",
       "      <th>teenhome</th>\n",
       "      <th>recency</th>\n",
       "      <th>mntwines</th>\n",
       "      <th>mntfruits</th>\n",
       "      <th>mntmeatproducts</th>\n",
       "      <th>mntfishproducts</th>\n",
       "      <th>mntsweetproducts</th>\n",
       "      <th>...</th>\n",
       "      <th>age</th>\n",
       "      <th>partner</th>\n",
       "      <th>household_size</th>\n",
       "      <th>parent</th>\n",
       "      <th>total_promos</th>\n",
       "      <th>education_2n Cycle</th>\n",
       "      <th>education_Basic</th>\n",
       "      <th>education_Graduation</th>\n",
       "      <th>education_Master</th>\n",
       "      <th>education_PhD</th>\n",
       "    </tr>\n",
       "  </thead>\n",
       "  <tbody>\n",
       "    <tr>\n",
       "      <th>0</th>\n",
       "      <td>0</td>\n",
       "      <td>58138.0</td>\n",
       "      <td>0</td>\n",
       "      <td>0</td>\n",
       "      <td>58</td>\n",
       "      <td>635</td>\n",
       "      <td>88</td>\n",
       "      <td>546</td>\n",
       "      <td>172</td>\n",
       "      <td>88</td>\n",
       "      <td>...</td>\n",
       "      <td>64</td>\n",
       "      <td>0</td>\n",
       "      <td>1</td>\n",
       "      <td>0</td>\n",
       "      <td>0</td>\n",
       "      <td>0</td>\n",
       "      <td>0</td>\n",
       "      <td>1</td>\n",
       "      <td>0</td>\n",
       "      <td>0</td>\n",
       "    </tr>\n",
       "    <tr>\n",
       "      <th>1</th>\n",
       "      <td>1</td>\n",
       "      <td>46344.0</td>\n",
       "      <td>1</td>\n",
       "      <td>1</td>\n",
       "      <td>38</td>\n",
       "      <td>11</td>\n",
       "      <td>1</td>\n",
       "      <td>6</td>\n",
       "      <td>2</td>\n",
       "      <td>1</td>\n",
       "      <td>...</td>\n",
       "      <td>67</td>\n",
       "      <td>0</td>\n",
       "      <td>3</td>\n",
       "      <td>1</td>\n",
       "      <td>0</td>\n",
       "      <td>0</td>\n",
       "      <td>0</td>\n",
       "      <td>1</td>\n",
       "      <td>0</td>\n",
       "      <td>0</td>\n",
       "    </tr>\n",
       "    <tr>\n",
       "      <th>2</th>\n",
       "      <td>2</td>\n",
       "      <td>71613.0</td>\n",
       "      <td>0</td>\n",
       "      <td>0</td>\n",
       "      <td>26</td>\n",
       "      <td>426</td>\n",
       "      <td>49</td>\n",
       "      <td>127</td>\n",
       "      <td>111</td>\n",
       "      <td>21</td>\n",
       "      <td>...</td>\n",
       "      <td>56</td>\n",
       "      <td>1</td>\n",
       "      <td>2</td>\n",
       "      <td>0</td>\n",
       "      <td>0</td>\n",
       "      <td>0</td>\n",
       "      <td>0</td>\n",
       "      <td>1</td>\n",
       "      <td>0</td>\n",
       "      <td>0</td>\n",
       "    </tr>\n",
       "    <tr>\n",
       "      <th>3</th>\n",
       "      <td>3</td>\n",
       "      <td>26646.0</td>\n",
       "      <td>1</td>\n",
       "      <td>0</td>\n",
       "      <td>26</td>\n",
       "      <td>11</td>\n",
       "      <td>4</td>\n",
       "      <td>20</td>\n",
       "      <td>10</td>\n",
       "      <td>3</td>\n",
       "      <td>...</td>\n",
       "      <td>37</td>\n",
       "      <td>1</td>\n",
       "      <td>3</td>\n",
       "      <td>0</td>\n",
       "      <td>0</td>\n",
       "      <td>0</td>\n",
       "      <td>0</td>\n",
       "      <td>1</td>\n",
       "      <td>0</td>\n",
       "      <td>0</td>\n",
       "    </tr>\n",
       "    <tr>\n",
       "      <th>4</th>\n",
       "      <td>4</td>\n",
       "      <td>58293.0</td>\n",
       "      <td>1</td>\n",
       "      <td>0</td>\n",
       "      <td>94</td>\n",
       "      <td>173</td>\n",
       "      <td>43</td>\n",
       "      <td>118</td>\n",
       "      <td>46</td>\n",
       "      <td>27</td>\n",
       "      <td>...</td>\n",
       "      <td>40</td>\n",
       "      <td>1</td>\n",
       "      <td>3</td>\n",
       "      <td>0</td>\n",
       "      <td>0</td>\n",
       "      <td>0</td>\n",
       "      <td>0</td>\n",
       "      <td>0</td>\n",
       "      <td>0</td>\n",
       "      <td>1</td>\n",
       "    </tr>\n",
       "  </tbody>\n",
       "</table>\n",
       "<p>5 rows × 36 columns</p>\n",
       "</div>"
      ],
      "text/plain": [
       "   index   income  kidhome  teenhome  recency  mntwines  mntfruits  \\\n",
       "0      0  58138.0        0         0       58       635         88   \n",
       "1      1  46344.0        1         1       38        11          1   \n",
       "2      2  71613.0        0         0       26       426         49   \n",
       "3      3  26646.0        1         0       26        11          4   \n",
       "4      4  58293.0        1         0       94       173         43   \n",
       "\n",
       "   mntmeatproducts  mntfishproducts  mntsweetproducts  ...  age  partner  \\\n",
       "0              546              172                88  ...   64        0   \n",
       "1                6                2                 1  ...   67        0   \n",
       "2              127              111                21  ...   56        1   \n",
       "3               20               10                 3  ...   37        1   \n",
       "4              118               46                27  ...   40        1   \n",
       "\n",
       "   household_size  parent  total_promos  education_2n Cycle  education_Basic  \\\n",
       "0               1       0             0                   0                0   \n",
       "1               3       1             0                   0                0   \n",
       "2               2       0             0                   0                0   \n",
       "3               3       0             0                   0                0   \n",
       "4               3       0             0                   0                0   \n",
       "\n",
       "   education_Graduation  education_Master  education_PhD  \n",
       "0                     1                 0              0  \n",
       "1                     1                 0              0  \n",
       "2                     1                 0              0  \n",
       "3                     1                 0              0  \n",
       "4                     0                 0              1  \n",
       "\n",
       "[5 rows x 36 columns]"
      ]
     },
     "execution_count": 120,
     "metadata": {},
     "output_type": "execute_result"
    }
   ],
   "source": [
    "df = pd.get_dummies(df, columns=['education'])\n",
    "df.head()"
   ]
  },
  {
   "cell_type": "markdown",
   "id": "2806aab7-ce17-440b-a8af-89831d46f2ce",
   "metadata": {},
   "source": [
    "Next we will scale our data."
   ]
  },
  {
   "cell_type": "code",
   "execution_count": 121,
   "id": "1d0eda57-d7c1-4227-984e-c88c34abc8f9",
   "metadata": {},
   "outputs": [],
   "source": [
    "sc = StandardScaler()\n",
    "scaled_df = sc.fit_transform(df)"
   ]
  },
  {
   "cell_type": "markdown",
   "id": "ac413310-6b7e-4c37-b7eb-7400d402d6e8",
   "metadata": {},
   "source": [
    "We now have 34 total features, many of which are correlated and therefore unneccessary to us.  To refine our data we will perform PCA, or principal component analysis to find the most important features.  It looks like the PCA algorithm reduced our dimensions from 34 to 18, meaning 18 of our features fit into the specified 95% variance requirement."
   ]
  },
  {
   "cell_type": "code",
   "execution_count": 122,
   "id": "8720a67a-b273-46a2-ba10-ad17649b0ce3",
   "metadata": {},
   "outputs": [
    {
     "data": {
      "text/plain": [
       "(2239, 25)"
      ]
     },
     "execution_count": 122,
     "metadata": {},
     "output_type": "execute_result"
    }
   ],
   "source": [
    "pca = PCA(n_components = 0.95)\n",
    "pca.fit(scaled_df)\n",
    "reduced = pd.DataFrame(pca.transform(scaled_df))\n",
    "reduced.shape"
   ]
  },
  {
   "cell_type": "markdown",
   "id": "0d63c2b1-c15b-493c-b0d8-858f1e350e20",
   "metadata": {},
   "source": [
    "Since we will be clustering to find our different user groups, we want to find the ideal number of clusters.  We will use the elbow method to find this number.\n",
    "\n",
    "From the below graph, it appears that 5 will be the optimal number for us.  However, after running these models with 5 clusters, 4 seemed to have more consistent groupings and peformance. "
   ]
  },
  {
   "cell_type": "code",
   "execution_count": 123,
   "id": "63502dfe-a3af-4f7a-a79c-cfd7821f62de",
   "metadata": {},
   "outputs": [
    {
     "data": {
      "image/png": "[encoded data removed]",
      "text/plain": [
       "<Figure size 432x288 with 2 Axes>"
      ]
     },
     "metadata": {},
     "output_type": "display_data"
    }
   ],
   "source": [
    "Elbow_M = KElbowVisualizer(KMeans(), k=10)\n",
    "Elbow_M.fit(reduced)\n",
    "Elbow_M.show();"
   ]
  },
  {
   "cell_type": "code",
   "execution_count": 124,
   "id": "b26abb7f-c02a-4017-929f-ade1b83aff3b",
   "metadata": {},
   "outputs": [],
   "source": [
    "#Initiating the Agglomerative Clustering model \n",
    "AC = AgglomerativeClustering(n_clusters=4)\n",
    "# fit model and predict clusters\n",
    "yhat_AC = AC.fit_predict(reduced)\n",
    "reduced[\"clusters\"] = yhat_AC\n",
    "#Adding the Clusters feature to the orignal dataframe.\n",
    "df[\"clusters\"]= yhat_AC"
   ]
  },
  {
   "cell_type": "markdown",
   "id": "9bcf3689-e529-4bf1-b5b2-ea17c5126f92",
   "metadata": {},
   "source": [
    "Checking the distribution of our clusters. We can see that a vast majority of users fall into group 1 and 2 with a consistent decline after that."
   ]
  },
  {
   "cell_type": "code",
   "execution_count": 141,
   "id": "f221f1ed-8c45-459b-8b57-c7d774442f93",
   "metadata": {},
   "outputs": [
    {
     "data": {
      "image/png": "[encoded data removed]",
      "text/plain": [
       "<Figure size 432x288 with 1 Axes>"
      ]
     },
     "metadata": {
      "needs_background": "light"
     },
     "output_type": "display_data"
    }
   ],
   "source": [
    "pl = sns.countplot(x=df[\"clusters\"])\n",
    "pl.set_title(\"Distribution Of The Clusters\")\n",
    "pl.set_xlabel(\"Clusters\")\n",
    "pl.set_ylabel(\"Customer Count\")\n",
    "plt.show()"
   ]
  },
  {
   "cell_type": "markdown",
   "id": "885fede1-4e8c-4753-b4c9-09ec40dd6878",
   "metadata": {},
   "source": [
    "Next, let's explore the clusters distributed by income and spending.\n",
    "\n",
    "From the below graph we can infer:\n",
    "- Group 0: high income and medium spending\n",
    "- Group 1: low income and low spending\n",
    "- Group 2: high income and high spending\n",
    "- Group 3: medium income and low spending"
   ]
  },
  {
   "cell_type": "code",
   "execution_count": 127,
   "id": "216212e6-3cfc-47fb-ab50-157c20cc0090",
   "metadata": {},
   "outputs": [
    {
     "data": {
      "image/png": "[encoded data removed]",
      "text/plain": [
       "<Figure size 432x288 with 1 Axes>"
      ]
     },
     "metadata": {
      "needs_background": "light"
     },
     "output_type": "display_data"
    }
   ],
   "source": [
    "pl = sns.scatterplot(data = df,x=df[\"total_spent\"], y=df[\"income\"],hue=df[\"clusters\"], palette='flare')\n",
    "pl.set_title(\"Cluster's Profile Based On Income And Spending\")\n",
    "pl.set_xlabel('Income')\n",
    "pl.set_ylabel('Total Spent')\n",
    "plt.legend()\n",
    "plt.show()"
   ]
  },
  {
   "cell_type": "markdown",
   "id": "1ce40e80-2616-4c0c-87c4-3a3446fbdbc5",
   "metadata": {},
   "source": [
    "Promotions and coupons draw in a lot of business, often times getting people's feet in the door to make more purchases while taking advantage of the promotion.  Let's see how our groups interact with our promotions.\n",
    "\n",
    "It appears that most people did not take advantage of promotions.\n",
    "\n",
    "Solutions:\n",
    "1. Target promotions more accurately to the correct audience.\n",
    "2. Target high popularity items to draw more people\n",
    "3. Depending on inventory, target low selling items to move them"
   ]
  },
  {
   "cell_type": "code",
   "execution_count": 128,
   "id": "1494a893-496d-4236-8ff1-ec96ea50ec91",
   "metadata": {},
   "outputs": [
    {
     "data": {
      "image/png": "[encoded data removed]",
      "text/plain": [
       "<Figure size 504x504 with 1 Axes>"
      ]
     },
     "metadata": {
      "needs_background": "light"
     },
     "output_type": "display_data"
    }
   ],
   "source": [
    "plt.figure(figsize=(7,7))\n",
    "pl = sns.countplot(x=df['total_promos'], hue=df['clusters'], palette='flare')\n",
    "pl.set_title('Count of Promotions Accepted by Cluster')\n",
    "pl.set_xlabel('Number of Promotions Used')\n",
    "pl.set_ylabel('Count')\n",
    "plt.show();"
   ]
  },
  {
   "cell_type": "markdown",
   "id": "865b8159-edfc-4d10-adfd-425727b74d1a",
   "metadata": {},
   "source": [
    "Deals on the other hand are utilized much more often by customers, seeing a resounding number of users using 1 or 2 deals with 3-7 trailing off consistently.  This is a much more successful tool for customer engagement."
   ]
  },
  {
   "cell_type": "code",
   "execution_count": 129,
   "id": "94974f74-6cde-4952-be59-e95b49409c6b",
   "metadata": {},
   "outputs": [
    {
     "data": {
      "image/png": "[encoded data removed]",
      "text/plain": [
       "<Figure size 504x504 with 1 Axes>"
      ]
     },
     "metadata": {
      "needs_background": "light"
     },
     "output_type": "display_data"
    }
   ],
   "source": [
    "plt.figure(figsize=(7,7))\n",
    "pl = sns.countplot(x=df['numdealspurchases'], hue=df['clusters'], palette='flare')\n",
    "pl.set_title('Number of Deals Purchased by Cluster')\n",
    "pl.set_xlabel('Number of Deals Purchased')\n",
    "pl.set_ylabel('Count')\n",
    "plt.legend(loc = 'upper center')\n",
    "plt.show();"
   ]
  },
  {
   "cell_type": "markdown",
   "id": "b02207f1-ae39-48fa-ba27-2e7dc198e865",
   "metadata": {},
   "source": [
    "### Cluster/Segmentation Exploration\n",
    "---"
   ]
  },
  {
   "cell_type": "markdown",
   "id": "fc409a6e-eff1-44f1-a8f2-8c82c1ff9016",
   "metadata": {},
   "source": [
    "We'll make a consolidated dataframe with useful information to draw some inferences."
   ]
  },
  {
   "cell_type": "code",
   "execution_count": 130,
   "id": "1e2b724d-5452-4536-85d6-1bec25181bfc",
   "metadata": {},
   "outputs": [
    {
     "data": {
      "text/html": [
       "<div>\n",
       "<style scoped>\n",
       "    .dataframe tbody tr th:only-of-type {\n",
       "        vertical-align: middle;\n",
       "    }\n",
       "\n",
       "    .dataframe tbody tr th {\n",
       "        vertical-align: top;\n",
       "    }\n",
       "\n",
       "    .dataframe thead th {\n",
       "        text-align: right;\n",
       "    }\n",
       "</style>\n",
       "<table border=\"1\" class=\"dataframe\">\n",
       "  <thead>\n",
       "    <tr style=\"text-align: right;\">\n",
       "      <th></th>\n",
       "      <th>income</th>\n",
       "      <th>total_spent</th>\n",
       "      <th>age</th>\n",
       "      <th>acc_age</th>\n",
       "      <th>parent</th>\n",
       "      <th>partner</th>\n",
       "      <th>total_children</th>\n",
       "      <th>numdealspurchases</th>\n",
       "      <th>total_promos</th>\n",
       "      <th>clusters</th>\n",
       "    </tr>\n",
       "  </thead>\n",
       "  <tbody>\n",
       "    <tr>\n",
       "      <th>0</th>\n",
       "      <td>58138.0</td>\n",
       "      <td>1617</td>\n",
       "      <td>64</td>\n",
       "      <td>971</td>\n",
       "      <td>0</td>\n",
       "      <td>0</td>\n",
       "      <td>0</td>\n",
       "      <td>3</td>\n",
       "      <td>0</td>\n",
       "      <td>2</td>\n",
       "    </tr>\n",
       "    <tr>\n",
       "      <th>1</th>\n",
       "      <td>46344.0</td>\n",
       "      <td>27</td>\n",
       "      <td>67</td>\n",
       "      <td>125</td>\n",
       "      <td>1</td>\n",
       "      <td>0</td>\n",
       "      <td>2</td>\n",
       "      <td>2</td>\n",
       "      <td>0</td>\n",
       "      <td>3</td>\n",
       "    </tr>\n",
       "    <tr>\n",
       "      <th>2</th>\n",
       "      <td>71613.0</td>\n",
       "      <td>776</td>\n",
       "      <td>56</td>\n",
       "      <td>472</td>\n",
       "      <td>0</td>\n",
       "      <td>1</td>\n",
       "      <td>0</td>\n",
       "      <td>1</td>\n",
       "      <td>0</td>\n",
       "      <td>2</td>\n",
       "    </tr>\n",
       "    <tr>\n",
       "      <th>3</th>\n",
       "      <td>26646.0</td>\n",
       "      <td>53</td>\n",
       "      <td>37</td>\n",
       "      <td>65</td>\n",
       "      <td>0</td>\n",
       "      <td>1</td>\n",
       "      <td>1</td>\n",
       "      <td>2</td>\n",
       "      <td>0</td>\n",
       "      <td>1</td>\n",
       "    </tr>\n",
       "    <tr>\n",
       "      <th>4</th>\n",
       "      <td>58293.0</td>\n",
       "      <td>422</td>\n",
       "      <td>40</td>\n",
       "      <td>321</td>\n",
       "      <td>0</td>\n",
       "      <td>1</td>\n",
       "      <td>1</td>\n",
       "      <td>5</td>\n",
       "      <td>0</td>\n",
       "      <td>1</td>\n",
       "    </tr>\n",
       "  </tbody>\n",
       "</table>\n",
       "</div>"
      ],
      "text/plain": [
       "    income  total_spent  age  acc_age  parent  partner  total_children  \\\n",
       "0  58138.0         1617   64      971       0        0               0   \n",
       "1  46344.0           27   67      125       1        0               2   \n",
       "2  71613.0          776   56      472       0        1               0   \n",
       "3  26646.0           53   37       65       0        1               1   \n",
       "4  58293.0          422   40      321       0        1               1   \n",
       "\n",
       "   numdealspurchases  total_promos  clusters  \n",
       "0                  3             0         2  \n",
       "1                  2             0         3  \n",
       "2                  1             0         2  \n",
       "3                  2             0         1  \n",
       "4                  5             0         1  "
      ]
     },
     "execution_count": 130,
     "metadata": {},
     "output_type": "execute_result"
    }
   ],
   "source": [
    "cols = ['income', 'total_spent', 'age', 'acc_age', 'parent', 'partner', 'total_children', 'numdealspurchases', 'total_promos', 'clusters']\n",
    "segmentation_df = df[cols]\n",
    "segmentation_df.head()"
   ]
  },
  {
   "cell_type": "code",
   "execution_count": 131,
   "id": "d50ed851-a94a-49d1-878f-a549051115d4",
   "metadata": {},
   "outputs": [
    {
     "data": {
      "text/plain": [
       "(2239, 10)"
      ]
     },
     "execution_count": 131,
     "metadata": {},
     "output_type": "execute_result"
    }
   ],
   "source": [
    "segmentation_df.shape"
   ]
  },
  {
   "cell_type": "code",
   "execution_count": 132,
   "id": "5d2491bc-9669-4a7c-ba63-4831ea6f3a7a",
   "metadata": {},
   "outputs": [],
   "source": [
    "cluster_0_df = segmentation_df[segmentation_df['clusters'] == 0]\n",
    "cluster_1_df = segmentation_df[segmentation_df['clusters'] == 1]\n",
    "cluster_2_df = segmentation_df[segmentation_df['clusters'] == 2]\n",
    "cluster_3_df = segmentation_df[segmentation_df['clusters'] == 3]"
   ]
  },
  {
   "cell_type": "code",
   "execution_count": 133,
   "id": "31e9b9ea-f3be-40d6-80b0-9d0e30d15dd2",
   "metadata": {},
   "outputs": [],
   "source": [
    "cluster_0_avg = cluster_0_df.mean()\n",
    "cluster_1_avg = cluster_1_df.mean()\n",
    "cluster_2_avg = cluster_2_df.mean()\n",
    "cluster_3_avg = cluster_3_df.mean()\n",
    "\n",
    "cluster_avg_df = pd.DataFrame(columns=cols)"
   ]
  },
  {
   "cell_type": "code",
   "execution_count": 134,
   "id": "530ebb3d-88be-4664-8039-5aa283879f60",
   "metadata": {},
   "outputs": [
    {
     "data": {
      "text/html": [
       "<div>\n",
       "<style scoped>\n",
       "    .dataframe tbody tr th:only-of-type {\n",
       "        vertical-align: middle;\n",
       "    }\n",
       "\n",
       "    .dataframe tbody tr th {\n",
       "        vertical-align: top;\n",
       "    }\n",
       "\n",
       "    .dataframe thead th {\n",
       "        text-align: right;\n",
       "    }\n",
       "</style>\n",
       "<table border=\"1\" class=\"dataframe\">\n",
       "  <thead>\n",
       "    <tr style=\"text-align: right;\">\n",
       "      <th></th>\n",
       "      <th>income</th>\n",
       "      <th>total_spent</th>\n",
       "      <th>age</th>\n",
       "      <th>acc_age</th>\n",
       "      <th>parent</th>\n",
       "      <th>partner</th>\n",
       "      <th>total_children</th>\n",
       "      <th>numdealspurchases</th>\n",
       "      <th>total_promos</th>\n",
       "      <th>clusters</th>\n",
       "    </tr>\n",
       "  </thead>\n",
       "  <tbody>\n",
       "    <tr>\n",
       "      <th>0</th>\n",
       "      <td>79333.602953</td>\n",
       "      <td>1562.260504</td>\n",
       "      <td>52.445378</td>\n",
       "      <td>498.243697</td>\n",
       "      <td>0.012605</td>\n",
       "      <td>0.668067</td>\n",
       "      <td>0.168067</td>\n",
       "      <td>1.126050</td>\n",
       "      <td>1.802521</td>\n",
       "      <td>0.0</td>\n",
       "    </tr>\n",
       "    <tr>\n",
       "      <th>1</th>\n",
       "      <td>37339.846637</td>\n",
       "      <td>197.965153</td>\n",
       "      <td>49.111932</td>\n",
       "      <td>493.381204</td>\n",
       "      <td>0.090813</td>\n",
       "      <td>0.662091</td>\n",
       "      <td>0.918691</td>\n",
       "      <td>2.071806</td>\n",
       "      <td>0.133052</td>\n",
       "      <td>1.0</td>\n",
       "    </tr>\n",
       "    <tr>\n",
       "      <th>2</th>\n",
       "      <td>66219.718985</td>\n",
       "      <td>1028.264069</td>\n",
       "      <td>54.398268</td>\n",
       "      <td>552.255411</td>\n",
       "      <td>0.036075</td>\n",
       "      <td>0.600289</td>\n",
       "      <td>0.655123</td>\n",
       "      <td>2.440115</td>\n",
       "      <td>0.160173</td>\n",
       "      <td>2.0</td>\n",
       "    </tr>\n",
       "    <tr>\n",
       "      <th>3</th>\n",
       "      <td>44971.411380</td>\n",
       "      <td>235.590028</td>\n",
       "      <td>55.905817</td>\n",
       "      <td>492.470914</td>\n",
       "      <td>0.997230</td>\n",
       "      <td>0.667590</td>\n",
       "      <td>2.116343</td>\n",
       "      <td>3.554017</td>\n",
       "      <td>0.002770</td>\n",
       "      <td>3.0</td>\n",
       "    </tr>\n",
       "  </tbody>\n",
       "</table>\n",
       "</div>"
      ],
      "text/plain": [
       "         income  total_spent        age     acc_age    parent   partner  \\\n",
       "0  79333.602953  1562.260504  52.445378  498.243697  0.012605  0.668067   \n",
       "1  37339.846637   197.965153  49.111932  493.381204  0.090813  0.662091   \n",
       "2  66219.718985  1028.264069  54.398268  552.255411  0.036075  0.600289   \n",
       "3  44971.411380   235.590028  55.905817  492.470914  0.997230  0.667590   \n",
       "\n",
       "   total_children  numdealspurchases  total_promos  clusters  \n",
       "0        0.168067           1.126050      1.802521       0.0  \n",
       "1        0.918691           2.071806      0.133052       1.0  \n",
       "2        0.655123           2.440115      0.160173       2.0  \n",
       "3        2.116343           3.554017      0.002770       3.0  "
      ]
     },
     "execution_count": 134,
     "metadata": {},
     "output_type": "execute_result"
    }
   ],
   "source": [
    "cluster_avg_df = cluster_avg_df.append(cluster_0_avg, ignore_index=True)\n",
    "cluster_avg_df = cluster_avg_df.append(cluster_1_avg, ignore_index=True)\n",
    "cluster_avg_df = cluster_avg_df.append(cluster_2_avg, ignore_index=True)\n",
    "cluster_avg_df = cluster_avg_df.append(cluster_3_avg, ignore_index=True)\n",
    "\n",
    "cluster_avg_df.head()"
   ]
  },
  {
   "cell_type": "code",
   "execution_count": 135,
   "id": "cb1f9dd3-e216-45eb-a63d-9c661229d86c",
   "metadata": {},
   "outputs": [
    {
     "data": {
      "image/png": "[encoded data removed]",
      "text/plain": [
       "<Figure size 1080x504 with 8 Axes>"
      ]
     },
     "metadata": {
      "needs_background": "light"
     },
     "output_type": "display_data"
    }
   ],
   "source": [
    "fig, axes = plt.subplots(2, 4, sharex=True, figsize=(15,7))\n",
    "\n",
    "fig.suptitle('Cluster Ranges')\n",
    "\n",
    "sns.boxplot(ax=axes[0, 0], x='clusters', y=segmentation_df['income'], data=segmentation_df)\n",
    "axes[0, 0].set_title('Income')\n",
    "axes[0, 0].set_ylabel('Income')\n",
    "\n",
    "sns.boxplot(ax=axes[0, 1], x='clusters', y=segmentation_df['total_spent'], data=segmentation_df)\n",
    "axes[0, 1].set_title('Total Spent')\n",
    "axes[0, 1].set_ylabel('Total Spent')\n",
    "\n",
    "sns.boxplot(ax=axes[0, 2], x='clusters', y=segmentation_df['age'], data=segmentation_df)\n",
    "axes[0, 2].set_title('Age')\n",
    "axes[0, 2].set_ylabel('Age')\n",
    "\n",
    "sns.boxplot(ax=axes[0, 3], x='clusters', y=segmentation_df['parent'], data=segmentation_df)\n",
    "axes[0, 3].set_title('Parental Status')\n",
    "axes[0, 3].set_ylabel('Parental Status')\n",
    "\n",
    "sns.boxplot(ax=axes[1, 0], x='clusters', y=segmentation_df['total_children'], data=segmentation_df)\n",
    "axes[1, 0].set_title('Total Children')\n",
    "axes[1, 0].set_ylabel('Total Children')\n",
    "\n",
    "sns.boxplot(ax=axes[1, 1], x='clusters', y=segmentation_df['numdealspurchases'], data=segmentation_df)\n",
    "axes[1, 1].set_title('Number of Deals Purchased')\n",
    "axes[1, 1].set_ylabel('Number of Deals Purchased')\n",
    "\n",
    "sns.boxplot(ax=axes[1, 2], x='clusters', y=segmentation_df['total_promos'], data=segmentation_df)\n",
    "axes[1, 2].set_title('Number of Promos Purchased')\n",
    "axes[1, 2].set_ylabel('Number of Promos Purchased')\n",
    "\n",
    "sns.boxplot(ax=axes[1, 3], x='clusters', y=segmentation_df['acc_age'], data=segmentation_df)\n",
    "axes[1, 3].set_title('Account Age')\n",
    "axes[1, 3].set_ylabel('Account Age')\n",
    "\n",
    "plt.tight_layout()\n",
    "plt.show();"
   ]
  },
  {
   "cell_type": "markdown",
   "id": "4af46ebe-29be-4b80-8a51-1482c7825b33",
   "metadata": {},
   "source": [
    "Let's explore some of our ranges by displaying our data in boxplots:\n",
    "\n",
    "**Inferences:**\n",
    "\n",
    "1) Income:\n",
    "    - Four distinct income groups in order from highest to lowest: 0, 2, 3, 1\n",
    "\n",
    "\n",
    "2) Total spent:\n",
    "    - Three distinct groups with 0 and 2 standing out at the biggest spenders with 1 and 3 in similar ranges with some notable outliers   \n",
    "\n",
    "\n",
    "\n",
    "\n",
    "3) Age:\n",
    "    - Group 0 has the widest range by far, but overall we see similar mean ages.\n",
    "\n",
    "\n",
    "4) Parental status:\n",
    "    - This is a boolean column so we won't see much range, however, we can glean that groups 0, 1, and 2 have fewer parents among there where as group 3 is prodominantly parents\n",
    "\n",
    "\n",
    "5) Total children:\n",
    "    - This graph shows a similar story in most groups have tight ranges, except group 2.  \n",
    "    - Group 0 has few children, group 1 has rougly 1 child per household, group 2 has between 0 and 1 which some having as many as 2, and lastly group 3 has an average of 2 childrne per household.\n",
    "\n",
    "\n",
    "\n",
    "\n",
    "6) Number of deals purchased:\n",
    "    - This is important one for us\n",
    "    - Our highest spending group doesn't utilize many deals\n",
    "    - Groups 1 and 2 are very similar in their range and usage of deals\n",
    "    - Group 3 has the second highest income but takes advantage of the most deals\n",
    "    \n",
    "\n",
    "\n",
    "7) Number of promos purchased:\n",
    "    - Another important feature\n",
    "    - Interestingly, group 1 didn't use many deals but they took advantage of far more promos than any other group between 1 and 2 on average.\n",
    "\n",
    "\n",
    " \n",
    "8) Account age:\n",
    "    - Nothing terribly useful here, most accounts are close to the same age with group 2 being slightly higher on average."
   ]
  },
  {
   "cell_type": "code",
   "execution_count": 136,
   "id": "62f12d2f-ca35-4bd0-9f95-7471d398add0",
   "metadata": {},
   "outputs": [
    {
     "data": {
      "image/png": "[encoded data removed]",
      "text/plain": [
       "<Figure size 1080x504 with 8 Axes>"
      ]
     },
     "metadata": {
      "needs_background": "light"
     },
     "output_type": "display_data"
    }
   ],
   "source": [
    "fig, axes = plt.subplots(2, 4, sharex=True, figsize=(15,7))\n",
    "\n",
    "fig.suptitle('Cluster Averages')\n",
    "\n",
    "sns.barplot(ax=axes[0, 0], x=cluster_avg_df.index, y=cluster_avg_df['income'])\n",
    "axes[0, 0].set_title('Income')\n",
    "axes[0, 0].set_ylabel('Income')\n",
    "\n",
    "sns.barplot(ax=axes[0, 1], x=cluster_avg_df.index, y=cluster_avg_df['total_spent'])\n",
    "axes[0, 1].set_title('Total Spent')\n",
    "axes[0, 1].set_ylabel('Total Spent')\n",
    "\n",
    "sns.barplot(ax=axes[0, 2], x=cluster_avg_df.index, y=cluster_avg_df['age'])\n",
    "axes[0, 2].set_title('Age')\n",
    "axes[0, 2].set_ylabel('Age')\n",
    "\n",
    "sns.barplot(ax=axes[0, 3], x=cluster_avg_df.index, y=cluster_avg_df['parent'])\n",
    "axes[0, 3].set_title('Parental Status')\n",
    "axes[0, 3].set_ylabel('Parental Status')\n",
    "\n",
    "sns.barplot(ax=axes[1, 0], x=cluster_avg_df.index, y=cluster_avg_df['total_children'])\n",
    "axes[1, 0].set_title('Total Children')\n",
    "axes[1, 0].set_ylabel('Total Children')\n",
    "\n",
    "sns.barplot(ax=axes[1, 1], x=cluster_avg_df.index, y=cluster_avg_df['numdealspurchases'])\n",
    "axes[1, 1].set_title('Number of Deals Purchased')\n",
    "axes[1, 1].set_ylabel('Number of Deals Purchased')\n",
    "\n",
    "sns.barplot(ax=axes[1, 2], x=cluster_avg_df.index, y=cluster_avg_df['total_promos'])\n",
    "axes[1, 2].set_title('Number of Promos Purchased')\n",
    "axes[1, 2].set_ylabel('Number of Promos Purchased')\n",
    "\n",
    "sns.barplot(ax=axes[1, 3], x=cluster_avg_df.index, y=cluster_avg_df['acc_age'])\n",
    "axes[1, 3].set_title('Account Age')\n",
    "axes[1, 3].set_ylabel('Account Age')\n",
    "\n",
    "plt.tight_layout()\n",
    "plt.show();"
   ]
  },
  {
   "cell_type": "markdown",
   "id": "76a6fe86-861a-4842-881c-5e2a84ca2828",
   "metadata": {},
   "source": [
    "For a more viewer friendly we can use these bar graphs that show us the averages to get snap shot of how our groups look.  All previous statements from the boxplot analysis hold true with these graphs, they're just a little bit easier on the eyes."
   ]
  },
  {
   "cell_type": "markdown",
   "id": "a004391e-b226-4932-8339-1377ece42bdf",
   "metadata": {},
   "source": [
    "### Overall Cluster Demographic Traits\n",
    "---"
   ]
  },
  {
   "cell_type": "code",
   "execution_count": 137,
   "id": "e1b5f546-7fa8-4618-8f10-317dde167eea",
   "metadata": {},
   "outputs": [],
   "source": [
    "cluster_0_count = cluster_0_df.shape[0]\n",
    "cluster_1_count = cluster_1_df.shape[0]\n",
    "cluster_2_count = cluster_2_df.shape[0]\n",
    "cluster_3_count = cluster_3_df.shape[0]\n",
    "\n",
    "total_count = segmentation_df.shape[0]"
   ]
  },
  {
   "cell_type": "code",
   "execution_count": 138,
   "id": "18590aea-f49d-4f77-91c2-310e888f0195",
   "metadata": {},
   "outputs": [
    {
     "name": "stdout",
     "output_type": "stream",
     "text": [
      "Cluster 0 total customer count is: 238 or 10.63%\n",
      "Cluster 1 total customer count is: 947 or 42.3%\n",
      "Cluster 2 total customer count is: 693 or 30.95%\n",
      "Cluster 3 total customer count is: 361 or 16.12%\n"
     ]
    }
   ],
   "source": [
    "print(f'Cluster 0 total customer count is: {cluster_0_count} or {round(cluster_0_count/total_count*100, 2)}%')\n",
    "print(f'Cluster 1 total customer count is: {cluster_1_count} or {round(cluster_1_count/total_count*100, 2)}%')\n",
    "print(f'Cluster 2 total customer count is: {cluster_2_count} or {round(cluster_2_count/total_count*100, 2)}%')\n",
    "print(f'Cluster 3 total customer count is: {cluster_3_count} or {round(cluster_3_count/total_count*100, 2)}%')"
   ]
  },
  {
   "cell_type": "code",
   "execution_count": 139,
   "id": "fee88c35-4836-4a16-9e08-5a77b9d2b2eb",
   "metadata": {},
   "outputs": [],
   "source": [
    "cluster_0_spent = sum(cluster_0_df['total_spent'])\n",
    "cluster_1_spent = sum(cluster_1_df['total_spent'])\n",
    "cluster_2_spent = sum(cluster_2_df['total_spent'])\n",
    "cluster_3_spent = sum(cluster_3_df['total_spent'])\n",
    "\n",
    "total_spent = sum(segmentation_df['total_spent'])"
   ]
  },
  {
   "cell_type": "code",
   "execution_count": 140,
   "id": "5c7fa1f4-75fe-4940-ac22-f9fe578d1e29",
   "metadata": {},
   "outputs": [
    {
     "name": "stdout",
     "output_type": "stream",
     "text": [
      "Cluster 0 revenue is: $371818 or 27.4% of total revenue\n",
      "Cluster 1 revenue is: $187473 or 13.82% of total revenue\n",
      "Cluster 2 revenue is: $712587 or 52.51% of total revenue\n",
      "Cluster 3 revenue is: $85048 or 6.27% of total revenue\n"
     ]
    }
   ],
   "source": [
    "print(f'Cluster 0 revenue is: ${cluster_0_spent} or {round(cluster_0_spending/total_spent*100, 2)}% of total revenue')\n",
    "print(f'Cluster 1 revenue is: ${cluster_1_spent} or {round(cluster_1_spending/total_spent*100, 2)}% of total revenue')\n",
    "print(f'Cluster 2 revenue is: ${cluster_2_spent} or {round(cluster_2_spending/total_spent*100, 2)}% of total revenue')\n",
    "print(f'Cluster 3 revenue is: ${cluster_3_spent} or {round(cluster_3_spending/total_spent*100, 2)}% of total revenue')"
   ]
  },
  {
   "cell_type": "markdown",
   "id": "1d38def2-4aa8-4023-a4fc-460f1752b47b",
   "metadata": {},
   "source": [
    "0 = 1562.26\n",
    "1 = 197.96\n",
    "2 = 1028.26\n",
    "3 = 235.59"
   ]
  },
  {
   "cell_type": "markdown",
   "id": "bf8ae68c-e680-4435-8b90-c3015f043cc8",
   "metadata": {},
   "source": [
    "**Cluster 0:**\n",
    "\n",
    "1. 238 users, 10.63% of total users, smallest group\n",
    "2. Highest average income\n",
    "3. Average spent per user ~$1,562.26\n",
    "4. Second highest revenue generating group at \\$371,181, or 27.4% of total revenue\n",
    "5. Widest range of ages\n",
    "6. Few to no children\n",
    "7. Low interest in deals - about 1 utilized on average\n",
    "8. High interest in promos - about 2 utilized on average\n",
    "\n",
    "**Inferences:**\n",
    "1. Wealthy\n",
    "2. High spending\n",
    "3. Diverse ages\n",
    "4. Childless\n",
    "5. Attracted to promos\n",
    "6. Second highest revenue generators\n",
    "\n",
    "---"
   ]
  },
  {
   "cell_type": "markdown",
   "id": "fe23b19e-54b9-467c-b064-be3fb8c20269",
   "metadata": {},
   "source": [
    "**Cluster 1:**\n",
    "\n",
    "1. 947 users, 42.3% of total users, largest group\n",
    "2. Lowest average income\n",
    "3. Average spent per user ~$197.96, lowest per user spending of all groups - low spending per user counter-acted by large group size\n",
    "4. Second lowest revenue generating group at \\$187,473 or 13.82% total revenue \n",
    "5. Youngest group\n",
    "6. Most households have about 1 child on average\n",
    "7. Low interested in deals - about 2 utilized on average\n",
    "8. Low interest in promos - less than 1 utilized on average\n",
    "\n",
    "**Inferences:**\n",
    "1. Low income\n",
    "2. Low spending\n",
    "3. Young\n",
    "4. Likely new parents\n",
    "5. Some interest in deals\n",
    "6. Low priority group unless we can attract them with deals or special targetted products\n",
    "\n",
    "---"
   ]
  },
  {
   "cell_type": "markdown",
   "id": "2d566f17-08e2-4311-939f-1e937caa299a",
   "metadata": {},
   "source": [
    "**Cluster 2:**\n",
    "\n",
    "1. 693 users, 30.95% of total users, third largest group\n",
    "2. Second highest average income\n",
    "3. Average spent per user ~\\$1,028.26, second highest per user spending of all groups\n",
    "4. Highest revenue generating group at \\$712,587 or 52.51% of total revnue\n",
    "5. Tighter spread of ages between 44 - 63\n",
    "6. Most households have 1 or no children\n",
    "7. Medium interest in deals - about 2.5 utilized on average\n",
    "8. Low interest in promos - less than 1 utilized on average\n",
    "\n",
    "**Inferences:**\n",
    "1. Wealthy\n",
    "2. High spending\n",
    "3. Older\n",
    "4. Middle aged parents\n",
    "5. Attracted to deals\n",
    "6. High priority group to draw in with deals\n",
    "7. Highest revenue drivers by far\n",
    "\n",
    "---"
   ]
  },
  {
   "cell_type": "markdown",
   "id": "cff7c609-9ad9-4a54-b611-d0cfca1619de",
   "metadata": {},
   "source": [
    "**Cluster 3:**\n",
    "\n",
    "1. 361 users, 16.12% of total users, second smallest group\n",
    "2. Second lowest average income\n",
    "3. Average spent per user ~$235.59, second lowest per user spending of all groups\n",
    "4. Lowest revenue generating group at \\$85,048 or 6.27% of total revnue\n",
    "5. Oldest group on average\n",
    "6. Most households have at least 2 children\n",
    "7. Highest interest in deals - about 3.5 utilized on average\n",
    "8. Almost no utilization of promos\n",
    "\n",
    "**Inferences:**\n",
    "1. Medium income\n",
    "2. Low spending\n",
    "3. Older folks\n",
    "4. Almost all families with multiple children\n",
    "5. Medium priority group, highly interested in deals"
   ]
  }
 ],
 "metadata": {
  "kernelspec": {
   "display_name": "Python 3",
   "language": "python",
   "name": "python3"
  },
  "language_info": {
   "codemirror_mode": {
    "name": "ipython",
    "version": 3
   },
   "file_extension": ".py",
   "mimetype": "text/x-python",
   "name": "python",
   "nbconvert_exporter": "python",
   "pygments_lexer": "ipython3",
   "version": "3.8.8"
  }
 },
 "nbformat": 4,
 "nbformat_minor": 5
}
