{
 "cells": [
  {
   "cell_type": "code",
   "execution_count": 138,
   "id": "f6e5c73e-63d6-4ef9-990b-f6a5caeddc41",
   "metadata": {},
   "outputs": [],
   "source": [
    "import pandas as pd\n",
    "import numpy as np\n",
    "import matplotlib.pyplot as plt\n",
    "%matplotlib inline\n",
    "import seaborn as sns\n",
    "\n",
    "from sklearn.preprocessing import StandardScaler\n",
    "from sklearn.decomposition import PCA\n",
    "from sklearn import metrics\n",
    "from sklearn.cluster import KMeans\n",
    "from sklearn.cluster import AgglomerativeClustering\n",
    "from sklearn.preprocessing import MinMaxScaler\n",
    "from yellowbrick.cluster import KElbowVisualizer"
   ]
  },
  {
   "cell_type": "markdown",
   "id": "bf7b2a6b-f2a9-447c-8681-23ed882c9ece",
   "metadata": {},
   "source": [
    "### Initial Data and Cleaning\n",
    "---"
   ]
  },
  {
   "cell_type": "code",
   "execution_count": 99,
   "id": "218397ab-1088-482b-ac0d-e3c0e9d2b5cd",
   "metadata": {},
   "outputs": [
    {
     "data": {
      "text/html": [
       "<div>\n",
       "<style scoped>\n",
       "    .dataframe tbody tr th:only-of-type {\n",
       "        vertical-align: middle;\n",
       "    }\n",
       "\n",
       "    .dataframe tbody tr th {\n",
       "        vertical-align: top;\n",
       "    }\n",
       "\n",
       "    .dataframe thead th {\n",
       "        text-align: right;\n",
       "    }\n",
       "</style>\n",
       "<table border=\"1\" class=\"dataframe\">\n",
       "  <thead>\n",
       "    <tr style=\"text-align: right;\">\n",
       "      <th></th>\n",
       "      <th>ID</th>\n",
       "      <th>Year_Birth</th>\n",
       "      <th>Education</th>\n",
       "      <th>Marital_Status</th>\n",
       "      <th>Income</th>\n",
       "      <th>Kidhome</th>\n",
       "      <th>Teenhome</th>\n",
       "      <th>Dt_Customer</th>\n",
       "      <th>Recency</th>\n",
       "      <th>MntWines</th>\n",
       "      <th>...</th>\n",
       "      <th>NumWebVisitsMonth</th>\n",
       "      <th>AcceptedCmp3</th>\n",
       "      <th>AcceptedCmp4</th>\n",
       "      <th>AcceptedCmp5</th>\n",
       "      <th>AcceptedCmp1</th>\n",
       "      <th>AcceptedCmp2</th>\n",
       "      <th>Complain</th>\n",
       "      <th>Z_CostContact</th>\n",
       "      <th>Z_Revenue</th>\n",
       "      <th>Response</th>\n",
       "    </tr>\n",
       "  </thead>\n",
       "  <tbody>\n",
       "    <tr>\n",
       "      <th>0</th>\n",
       "      <td>5524</td>\n",
       "      <td>1957</td>\n",
       "      <td>Graduation</td>\n",
       "      <td>Single</td>\n",
       "      <td>58138.0</td>\n",
       "      <td>0</td>\n",
       "      <td>0</td>\n",
       "      <td>04-09-2012</td>\n",
       "      <td>58</td>\n",
       "      <td>635</td>\n",
       "      <td>...</td>\n",
       "      <td>7</td>\n",
       "      <td>0</td>\n",
       "      <td>0</td>\n",
       "      <td>0</td>\n",
       "      <td>0</td>\n",
       "      <td>0</td>\n",
       "      <td>0</td>\n",
       "      <td>3</td>\n",
       "      <td>11</td>\n",
       "      <td>1</td>\n",
       "    </tr>\n",
       "    <tr>\n",
       "      <th>1</th>\n",
       "      <td>2174</td>\n",
       "      <td>1954</td>\n",
       "      <td>Graduation</td>\n",
       "      <td>Single</td>\n",
       "      <td>46344.0</td>\n",
       "      <td>1</td>\n",
       "      <td>1</td>\n",
       "      <td>08-03-2014</td>\n",
       "      <td>38</td>\n",
       "      <td>11</td>\n",
       "      <td>...</td>\n",
       "      <td>5</td>\n",
       "      <td>0</td>\n",
       "      <td>0</td>\n",
       "      <td>0</td>\n",
       "      <td>0</td>\n",
       "      <td>0</td>\n",
       "      <td>0</td>\n",
       "      <td>3</td>\n",
       "      <td>11</td>\n",
       "      <td>0</td>\n",
       "    </tr>\n",
       "    <tr>\n",
       "      <th>2</th>\n",
       "      <td>4141</td>\n",
       "      <td>1965</td>\n",
       "      <td>Graduation</td>\n",
       "      <td>Together</td>\n",
       "      <td>71613.0</td>\n",
       "      <td>0</td>\n",
       "      <td>0</td>\n",
       "      <td>21-08-2013</td>\n",
       "      <td>26</td>\n",
       "      <td>426</td>\n",
       "      <td>...</td>\n",
       "      <td>4</td>\n",
       "      <td>0</td>\n",
       "      <td>0</td>\n",
       "      <td>0</td>\n",
       "      <td>0</td>\n",
       "      <td>0</td>\n",
       "      <td>0</td>\n",
       "      <td>3</td>\n",
       "      <td>11</td>\n",
       "      <td>0</td>\n",
       "    </tr>\n",
       "    <tr>\n",
       "      <th>3</th>\n",
       "      <td>6182</td>\n",
       "      <td>1984</td>\n",
       "      <td>Graduation</td>\n",
       "      <td>Together</td>\n",
       "      <td>26646.0</td>\n",
       "      <td>1</td>\n",
       "      <td>0</td>\n",
       "      <td>10-02-2014</td>\n",
       "      <td>26</td>\n",
       "      <td>11</td>\n",
       "      <td>...</td>\n",
       "      <td>6</td>\n",
       "      <td>0</td>\n",
       "      <td>0</td>\n",
       "      <td>0</td>\n",
       "      <td>0</td>\n",
       "      <td>0</td>\n",
       "      <td>0</td>\n",
       "      <td>3</td>\n",
       "      <td>11</td>\n",
       "      <td>0</td>\n",
       "    </tr>\n",
       "    <tr>\n",
       "      <th>4</th>\n",
       "      <td>5324</td>\n",
       "      <td>1981</td>\n",
       "      <td>PhD</td>\n",
       "      <td>Married</td>\n",
       "      <td>58293.0</td>\n",
       "      <td>1</td>\n",
       "      <td>0</td>\n",
       "      <td>19-01-2014</td>\n",
       "      <td>94</td>\n",
       "      <td>173</td>\n",
       "      <td>...</td>\n",
       "      <td>5</td>\n",
       "      <td>0</td>\n",
       "      <td>0</td>\n",
       "      <td>0</td>\n",
       "      <td>0</td>\n",
       "      <td>0</td>\n",
       "      <td>0</td>\n",
       "      <td>3</td>\n",
       "      <td>11</td>\n",
       "      <td>0</td>\n",
       "    </tr>\n",
       "  </tbody>\n",
       "</table>\n",
       "<p>5 rows × 29 columns</p>\n",
       "</div>"
      ],
      "text/plain": [
       "     ID  Year_Birth   Education Marital_Status   Income  Kidhome  Teenhome  \\\n",
       "0  5524        1957  Graduation         Single  58138.0        0         0   \n",
       "1  2174        1954  Graduation         Single  46344.0        1         1   \n",
       "2  4141        1965  Graduation       Together  71613.0        0         0   \n",
       "3  6182        1984  Graduation       Together  26646.0        1         0   \n",
       "4  5324        1981         PhD        Married  58293.0        1         0   \n",
       "\n",
       "  Dt_Customer  Recency  MntWines  ...  NumWebVisitsMonth  AcceptedCmp3  \\\n",
       "0  04-09-2012       58       635  ...                  7             0   \n",
       "1  08-03-2014       38        11  ...                  5             0   \n",
       "2  21-08-2013       26       426  ...                  4             0   \n",
       "3  10-02-2014       26        11  ...                  6             0   \n",
       "4  19-01-2014       94       173  ...                  5             0   \n",
       "\n",
       "   AcceptedCmp4  AcceptedCmp5  AcceptedCmp1  AcceptedCmp2  Complain  \\\n",
       "0             0             0             0             0         0   \n",
       "1             0             0             0             0         0   \n",
       "2             0             0             0             0         0   \n",
       "3             0             0             0             0         0   \n",
       "4             0             0             0             0         0   \n",
       "\n",
       "   Z_CostContact  Z_Revenue  Response  \n",
       "0              3         11         1  \n",
       "1              3         11         0  \n",
       "2              3         11         0  \n",
       "3              3         11         0  \n",
       "4              3         11         0  \n",
       "\n",
       "[5 rows x 29 columns]"
      ]
     },
     "execution_count": 99,
     "metadata": {},
     "output_type": "execute_result"
    }
   ],
   "source": [
    "df = pd.read_csv('./data/marketing_campaign.csv', delimiter='\\t')\n",
    "df.head()"
   ]
  },
  {
   "cell_type": "code",
   "execution_count": 100,
   "id": "14906487-1754-4888-9b83-ccc48e9a92d4",
   "metadata": {},
   "outputs": [
    {
     "data": {
      "text/plain": [
       "(2240, 29)"
      ]
     },
     "execution_count": 100,
     "metadata": {},
     "output_type": "execute_result"
    }
   ],
   "source": [
    "df.shape"
   ]
  },
  {
   "cell_type": "markdown",
   "id": "4be918c9-572b-463f-8c76-595601814e6b",
   "metadata": {},
   "source": [
    "All data is accounted for except income.  To keep it simple, we will impute the mean into missing income."
   ]
  },
  {
   "cell_type": "code",
   "execution_count": 101,
   "id": "438bda98-3bf2-4a30-ae8a-86d79954a0f0",
   "metadata": {},
   "outputs": [
    {
     "name": "stdout",
     "output_type": "stream",
     "text": [
      "<class 'pandas.core.frame.DataFrame'>\n",
      "RangeIndex: 2240 entries, 0 to 2239\n",
      "Data columns (total 29 columns):\n",
      " #   Column               Non-Null Count  Dtype  \n",
      "---  ------               --------------  -----  \n",
      " 0   ID                   2240 non-null   int64  \n",
      " 1   Year_Birth           2240 non-null   int64  \n",
      " 2   Education            2240 non-null   object \n",
      " 3   Marital_Status       2240 non-null   object \n",
      " 4   Income               2216 non-null   float64\n",
      " 5   Kidhome              2240 non-null   int64  \n",
      " 6   Teenhome             2240 non-null   int64  \n",
      " 7   Dt_Customer          2240 non-null   object \n",
      " 8   Recency              2240 non-null   int64  \n",
      " 9   MntWines             2240 non-null   int64  \n",
      " 10  MntFruits            2240 non-null   int64  \n",
      " 11  MntMeatProducts      2240 non-null   int64  \n",
      " 12  MntFishProducts      2240 non-null   int64  \n",
      " 13  MntSweetProducts     2240 non-null   int64  \n",
      " 14  MntGoldProds         2240 non-null   int64  \n",
      " 15  NumDealsPurchases    2240 non-null   int64  \n",
      " 16  NumWebPurchases      2240 non-null   int64  \n",
      " 17  NumCatalogPurchases  2240 non-null   int64  \n",
      " 18  NumStorePurchases    2240 non-null   int64  \n",
      " 19  NumWebVisitsMonth    2240 non-null   int64  \n",
      " 20  AcceptedCmp3         2240 non-null   int64  \n",
      " 21  AcceptedCmp4         2240 non-null   int64  \n",
      " 22  AcceptedCmp5         2240 non-null   int64  \n",
      " 23  AcceptedCmp1         2240 non-null   int64  \n",
      " 24  AcceptedCmp2         2240 non-null   int64  \n",
      " 25  Complain             2240 non-null   int64  \n",
      " 26  Z_CostContact        2240 non-null   int64  \n",
      " 27  Z_Revenue            2240 non-null   int64  \n",
      " 28  Response             2240 non-null   int64  \n",
      "dtypes: float64(1), int64(25), object(3)\n",
      "memory usage: 507.6+ KB\n"
     ]
    }
   ],
   "source": [
    "df.info()"
   ]
  },
  {
   "cell_type": "markdown",
   "id": "a1495267-cf05-4b87-98b8-680d62c39bbb",
   "metadata": {},
   "source": [
    "As a personal preference I will make all column names lower case for easier typing."
   ]
  },
  {
   "cell_type": "code",
   "execution_count": 102,
   "id": "6b759186-18fa-4f9e-9bd5-e2ef2a7a8de7",
   "metadata": {},
   "outputs": [],
   "source": [
    "df.columns = [x.lower() for x in df.columns]"
   ]
  },
  {
   "cell_type": "code",
   "execution_count": 103,
   "id": "bfe3daab-8b7d-4a49-baaf-bf38be41995a",
   "metadata": {},
   "outputs": [
    {
     "data": {
      "text/plain": [
       "52247.25135379061"
      ]
     },
     "execution_count": 103,
     "metadata": {},
     "output_type": "execute_result"
    }
   ],
   "source": [
    "mean_income = df['income'].mean()\n",
    "mean_income"
   ]
  },
  {
   "cell_type": "code",
   "execution_count": 104,
   "id": "ba564d6b-3748-4763-b012-e417889e7da8",
   "metadata": {},
   "outputs": [],
   "source": [
    "df['income'].fillna(mean_income, inplace=True)"
   ]
  },
  {
   "cell_type": "markdown",
   "id": "df35d154-8d35-4ccd-8f6e-d9848935b047",
   "metadata": {},
   "source": [
    "### Feature Engineering\n",
    "---"
   ]
  },
  {
   "cell_type": "markdown",
   "id": "257cdabf-6851-4efc-b599-3af7ff617f4a",
   "metadata": {},
   "source": [
    "Features to engineer:\n",
    "1. Customer involvement duration - how long has a customer been enrolled with the company\n",
    "2. Total dependants - combined teens and children\n",
    "3. Total spent - total amount spent across all categories\n",
    "4. Customer age - how old the customer is\n",
    "5. Partners - determine if the person is single or living with someone.\n",
    "6. Total household size - total number of people in the household including parterns and children\n",
    "7. Parental status - boolean column to identify parents"
   ]
  },
  {
   "cell_type": "markdown",
   "id": "b03d3bfd-c0be-4776-a9bd-5713e47fbe21",
   "metadata": {},
   "source": [
    "First we must convert out 'dt_customer' column to proper datetime format."
   ]
  },
  {
   "cell_type": "code",
   "execution_count": 105,
   "id": "91707f70-347d-4313-88e6-22d169da08ff",
   "metadata": {},
   "outputs": [],
   "source": [
    "df['dt_customer'] = pd.to_datetime(df['dt_customer'])"
   ]
  },
  {
   "cell_type": "markdown",
   "id": "eb21e551-24d3-475d-8318-ad733d9f6920",
   "metadata": {},
   "source": [
    "In order to get the account's age, we will subtract each account creation date from the newest account's date."
   ]
  },
  {
   "cell_type": "code",
   "execution_count": 106,
   "id": "6bd32518-83ab-4cfe-a3a9-0ded5a6fd0c8",
   "metadata": {},
   "outputs": [
    {
     "data": {
      "text/plain": [
       "Timestamp('2014-12-06 00:00:00')"
      ]
     },
     "execution_count": 106,
     "metadata": {},
     "output_type": "execute_result"
    }
   ],
   "source": [
    "newest_acc = df['dt_customer'].max()\n",
    "newest_acc"
   ]
  },
  {
   "cell_type": "markdown",
   "id": "6f3da250-c85e-49d1-aeb0-6fab9d26b040",
   "metadata": {},
   "source": [
    "Loop through every account's creation date and subract the newest account's date to get the age of the account."
   ]
  },
  {
   "cell_type": "code",
   "execution_count": 107,
   "id": "582ded91-7c6e-4398-99c2-3ada1ddcfd94",
   "metadata": {},
   "outputs": [],
   "source": [
    "acc_age = []\n",
    "for i in df['dt_customer']:\n",
    "    diff = newest_acc - i\n",
    "    acc_age.append(diff)\n",
    "\n",
    "df['acc_age'] = acc_age\n",
    "df['acc_age'] = pd.to_numeric(df['acc_age'].dt.days, downcast='integer')"
   ]
  },
  {
   "cell_type": "markdown",
   "id": "e5217c80-db60-4fe8-ab2a-ef2108979f43",
   "metadata": {},
   "source": [
    "Let's check the column to make sure it's displaying properly.  Looks good!"
   ]
  },
  {
   "cell_type": "code",
   "execution_count": 108,
   "id": "3c86df22-e13b-4474-9a7e-5c360f33fb74",
   "metadata": {},
   "outputs": [
    {
     "data": {
      "text/plain": [
       "0       971\n",
       "1       125\n",
       "2       472\n",
       "3        65\n",
       "4       321\n",
       "       ... \n",
       "2235    541\n",
       "2236     61\n",
       "2237    315\n",
       "2238    316\n",
       "2239    782\n",
       "Name: acc_age, Length: 2240, dtype: int16"
      ]
     },
     "execution_count": 108,
     "metadata": {},
     "output_type": "execute_result"
    }
   ],
   "source": [
    "df['acc_age']"
   ]
  },
  {
   "cell_type": "markdown",
   "id": "2c682c8b-0c0c-448f-af16-f2e7de7b92e0",
   "metadata": {},
   "source": [
    "Next we will engineer the remainder of our features."
   ]
  },
  {
   "cell_type": "code",
   "execution_count": 109,
   "id": "f6a69536-4a7d-4c6c-b0eb-98b93001b241",
   "metadata": {},
   "outputs": [],
   "source": [
    "# total combined number of children (children plus teens)\n",
    "df['total_children'] = df['kidhome'] + df['teenhome']\n",
    "\n",
    "# total spent across all product categories\n",
    "df['total_spent'] = df['mntwines'] + df['mntfruits'] + df['mntmeatproducts'] + df['mntfishproducts'] + df['mntsweetproducts'] + df['mntgoldprods']\n",
    "\n",
    "# user's age\n",
    "df['age'] = 2021 - df['year_birth']\n",
    "\n",
    "# whether the person is living alone or with a partner (not including children)\n",
    "df['partner'] = df['marital_status'].replace({'Married':1, 'Together':1, 'Absurd':0, 'Widow':0, 'YOLO':0, 'Divorced':0, 'Single':0, 'Alone': 0})\n",
    "df['partner'] = [int(x) for x in df['partner']]\n",
    "\n",
    "# total number of people in the household including the user, potential partner, and/or children\n",
    "df['household_size'] = df['partner'].replace({1:2, 0:1}) + df['total_children']\n",
    "\n",
    "# a boolean column identifying whether the person is a parent or not\n",
    "df['parent'] = np.where(df['total_children'] > 1, 1, 0)"
   ]
  },
  {
   "cell_type": "markdown",
   "id": "e604910c-d10c-4419-9db4-9d4b6ebd6ce9",
   "metadata": {},
   "source": [
    "Finally, we'll drop some redudant columns that no longer serve a purpose now that we've engineered some to be more useful features."
   ]
  },
  {
   "cell_type": "code",
   "execution_count": 110,
   "id": "84d30f0f-4d26-45cb-849d-7a6c374f42c7",
   "metadata": {},
   "outputs": [
    {
     "data": {
      "text/html": [
       "<div>\n",
       "<style scoped>\n",
       "    .dataframe tbody tr th:only-of-type {\n",
       "        vertical-align: middle;\n",
       "    }\n",
       "\n",
       "    .dataframe tbody tr th {\n",
       "        vertical-align: top;\n",
       "    }\n",
       "\n",
       "    .dataframe thead th {\n",
       "        text-align: right;\n",
       "    }\n",
       "</style>\n",
       "<table border=\"1\" class=\"dataframe\">\n",
       "  <thead>\n",
       "    <tr style=\"text-align: right;\">\n",
       "      <th></th>\n",
       "      <th>education</th>\n",
       "      <th>income</th>\n",
       "      <th>kidhome</th>\n",
       "      <th>teenhome</th>\n",
       "      <th>recency</th>\n",
       "      <th>mntwines</th>\n",
       "      <th>mntfruits</th>\n",
       "      <th>mntmeatproducts</th>\n",
       "      <th>mntfishproducts</th>\n",
       "      <th>mntsweetproducts</th>\n",
       "      <th>...</th>\n",
       "      <th>acceptedcmp2</th>\n",
       "      <th>complain</th>\n",
       "      <th>response</th>\n",
       "      <th>acc_age</th>\n",
       "      <th>total_children</th>\n",
       "      <th>total_spent</th>\n",
       "      <th>age</th>\n",
       "      <th>partner</th>\n",
       "      <th>household_size</th>\n",
       "      <th>parent</th>\n",
       "    </tr>\n",
       "  </thead>\n",
       "  <tbody>\n",
       "    <tr>\n",
       "      <th>0</th>\n",
       "      <td>Graduation</td>\n",
       "      <td>58138.0</td>\n",
       "      <td>0</td>\n",
       "      <td>0</td>\n",
       "      <td>58</td>\n",
       "      <td>635</td>\n",
       "      <td>88</td>\n",
       "      <td>546</td>\n",
       "      <td>172</td>\n",
       "      <td>88</td>\n",
       "      <td>...</td>\n",
       "      <td>0</td>\n",
       "      <td>0</td>\n",
       "      <td>1</td>\n",
       "      <td>971</td>\n",
       "      <td>0</td>\n",
       "      <td>1617</td>\n",
       "      <td>64</td>\n",
       "      <td>0</td>\n",
       "      <td>1</td>\n",
       "      <td>0</td>\n",
       "    </tr>\n",
       "    <tr>\n",
       "      <th>1</th>\n",
       "      <td>Graduation</td>\n",
       "      <td>46344.0</td>\n",
       "      <td>1</td>\n",
       "      <td>1</td>\n",
       "      <td>38</td>\n",
       "      <td>11</td>\n",
       "      <td>1</td>\n",
       "      <td>6</td>\n",
       "      <td>2</td>\n",
       "      <td>1</td>\n",
       "      <td>...</td>\n",
       "      <td>0</td>\n",
       "      <td>0</td>\n",
       "      <td>0</td>\n",
       "      <td>125</td>\n",
       "      <td>2</td>\n",
       "      <td>27</td>\n",
       "      <td>67</td>\n",
       "      <td>0</td>\n",
       "      <td>3</td>\n",
       "      <td>1</td>\n",
       "    </tr>\n",
       "    <tr>\n",
       "      <th>2</th>\n",
       "      <td>Graduation</td>\n",
       "      <td>71613.0</td>\n",
       "      <td>0</td>\n",
       "      <td>0</td>\n",
       "      <td>26</td>\n",
       "      <td>426</td>\n",
       "      <td>49</td>\n",
       "      <td>127</td>\n",
       "      <td>111</td>\n",
       "      <td>21</td>\n",
       "      <td>...</td>\n",
       "      <td>0</td>\n",
       "      <td>0</td>\n",
       "      <td>0</td>\n",
       "      <td>472</td>\n",
       "      <td>0</td>\n",
       "      <td>776</td>\n",
       "      <td>56</td>\n",
       "      <td>1</td>\n",
       "      <td>2</td>\n",
       "      <td>0</td>\n",
       "    </tr>\n",
       "    <tr>\n",
       "      <th>3</th>\n",
       "      <td>Graduation</td>\n",
       "      <td>26646.0</td>\n",
       "      <td>1</td>\n",
       "      <td>0</td>\n",
       "      <td>26</td>\n",
       "      <td>11</td>\n",
       "      <td>4</td>\n",
       "      <td>20</td>\n",
       "      <td>10</td>\n",
       "      <td>3</td>\n",
       "      <td>...</td>\n",
       "      <td>0</td>\n",
       "      <td>0</td>\n",
       "      <td>0</td>\n",
       "      <td>65</td>\n",
       "      <td>1</td>\n",
       "      <td>53</td>\n",
       "      <td>37</td>\n",
       "      <td>1</td>\n",
       "      <td>3</td>\n",
       "      <td>0</td>\n",
       "    </tr>\n",
       "    <tr>\n",
       "      <th>4</th>\n",
       "      <td>PhD</td>\n",
       "      <td>58293.0</td>\n",
       "      <td>1</td>\n",
       "      <td>0</td>\n",
       "      <td>94</td>\n",
       "      <td>173</td>\n",
       "      <td>43</td>\n",
       "      <td>118</td>\n",
       "      <td>46</td>\n",
       "      <td>27</td>\n",
       "      <td>...</td>\n",
       "      <td>0</td>\n",
       "      <td>0</td>\n",
       "      <td>0</td>\n",
       "      <td>321</td>\n",
       "      <td>1</td>\n",
       "      <td>422</td>\n",
       "      <td>40</td>\n",
       "      <td>1</td>\n",
       "      <td>3</td>\n",
       "      <td>0</td>\n",
       "    </tr>\n",
       "  </tbody>\n",
       "</table>\n",
       "<p>5 rows × 30 columns</p>\n",
       "</div>"
      ],
      "text/plain": [
       "    education   income  kidhome  teenhome  recency  mntwines  mntfruits  \\\n",
       "0  Graduation  58138.0        0         0       58       635         88   \n",
       "1  Graduation  46344.0        1         1       38        11          1   \n",
       "2  Graduation  71613.0        0         0       26       426         49   \n",
       "3  Graduation  26646.0        1         0       26        11          4   \n",
       "4         PhD  58293.0        1         0       94       173         43   \n",
       "\n",
       "   mntmeatproducts  mntfishproducts  mntsweetproducts  ...  acceptedcmp2  \\\n",
       "0              546              172                88  ...             0   \n",
       "1                6                2                 1  ...             0   \n",
       "2              127              111                21  ...             0   \n",
       "3               20               10                 3  ...             0   \n",
       "4              118               46                27  ...             0   \n",
       "\n",
       "   complain  response  acc_age  total_children  total_spent  age  partner  \\\n",
       "0         0         1      971               0         1617   64        0   \n",
       "1         0         0      125               2           27   67        0   \n",
       "2         0         0      472               0          776   56        1   \n",
       "3         0         0       65               1           53   37        1   \n",
       "4         0         0      321               1          422   40        1   \n",
       "\n",
       "   household_size  parent  \n",
       "0               1       0  \n",
       "1               3       1  \n",
       "2               2       0  \n",
       "3               3       0  \n",
       "4               3       0  \n",
       "\n",
       "[5 rows x 30 columns]"
      ]
     },
     "execution_count": 110,
     "metadata": {},
     "output_type": "execute_result"
    }
   ],
   "source": [
    "df.drop(columns=['marital_status', 'dt_customer', 'z_costcontact', 'z_revenue', 'year_birth', 'id'], inplace=True)\n",
    "df.head()"
   ]
  },
  {
   "cell_type": "markdown",
   "id": "f8a7db07-be79-465a-95c1-22a1dd0b1a8a",
   "metadata": {},
   "source": [
    "### EDA\n",
    "---"
   ]
  },
  {
   "cell_type": "markdown",
   "id": "c7cca3ac-66c3-4c11-b7f8-e0016ac00a9a",
   "metadata": {},
   "source": [
    "We have some very wealthy patrons throwing off our histogram, but we can see most of our users' incomes follow a relatively normal distribution between 0 and $100,000"
   ]
  },
  {
   "cell_type": "code",
   "execution_count": 111,
   "id": "deefcafe-5c56-4ff4-b399-82d015aec6eb",
   "metadata": {},
   "outputs": [
    {
     "data": {
      "text/plain": [
       "Index(['education', 'income', 'kidhome', 'teenhome', 'recency', 'mntwines',\n",
       "       'mntfruits', 'mntmeatproducts', 'mntfishproducts', 'mntsweetproducts',\n",
       "       'mntgoldprods', 'numdealspurchases', 'numwebpurchases',\n",
       "       'numcatalogpurchases', 'numstorepurchases', 'numwebvisitsmonth',\n",
       "       'acceptedcmp3', 'acceptedcmp4', 'acceptedcmp5', 'acceptedcmp1',\n",
       "       'acceptedcmp2', 'complain', 'response', 'acc_age', 'total_children',\n",
       "       'total_spent', 'age', 'partner', 'household_size', 'parent'],\n",
       "      dtype='object')"
      ]
     },
     "execution_count": 111,
     "metadata": {},
     "output_type": "execute_result"
    }
   ],
   "source": [
    "df.columns"
   ]
  },
  {
   "cell_type": "code",
   "execution_count": 112,
   "id": "238c9681-af8e-4c01-a85a-be079d73b656",
   "metadata": {},
   "outputs": [],
   "source": [
    "cleaned_income = df[df['income'] < 200000]"
   ]
  },
  {
   "cell_type": "code",
   "execution_count": 113,
   "id": "335bb9b8-1cb9-4f37-9f03-ebe52016e7fb",
   "metadata": {},
   "outputs": [
    {
     "data": {
      "image/png": "[encoded data removed]",
      "text/plain": [
       "<Figure size 432x288 with 1 Axes>"
      ]
     },
     "metadata": {
      "needs_background": "light"
     },
     "output_type": "display_data"
    }
   ],
   "source": [
    "sns.histplot(cleaned_income['income'], kde=True);"
   ]
  },
  {
   "cell_type": "markdown",
   "id": "1e361df9-eb2d-4581-8239-72081d2011ba",
   "metadata": {},
   "source": [
    "A uniform distribution of the number of days between when a person purchased an item.  No clear pattern or bell curve here."
   ]
  },
  {
   "cell_type": "code",
   "execution_count": 114,
   "id": "996b7ce9-34b3-4b16-bf06-3fc7e9055935",
   "metadata": {},
   "outputs": [
    {
     "data": {
      "image/png": "[encoded data removed]",
      "text/plain": [
       "<Figure size 432x288 with 1 Axes>"
      ]
     },
     "metadata": {
      "needs_background": "light"
     },
     "output_type": "display_data"
    }
   ],
   "source": [
    "sns.histplot(df['recency']);"
   ]
  },
  {
   "cell_type": "markdown",
   "id": "f7e16f7b-dd1a-4802-b32a-931346b217ff",
   "metadata": {
    "tags": []
   },
   "source": [
    "Distribution of the total household size is relatively regular.  Most households are between 2 and 4 people indicating:\n",
    "1. Most users are couples or single parents with a single child\n",
    "2. Most users are a couple with multiple children or a single parent with multiple children"
   ]
  },
  {
   "cell_type": "code",
   "execution_count": 115,
   "id": "55f5b674-9444-4fb5-ab21-40de181ab61a",
   "metadata": {},
   "outputs": [
    {
     "data": {
      "image/png": "[encoded data removed]",
      "text/plain": [
       "<Figure size 432x288 with 1 Axes>"
      ]
     },
     "metadata": {
      "needs_background": "light"
     },
     "output_type": "display_data"
    }
   ],
   "source": [
    "sns.histplot(df['household_size'], bins=4);"
   ]
  },
  {
   "cell_type": "markdown",
   "id": "45bdb6c6-1bc2-4256-aa5d-abccf4240f5b",
   "metadata": {},
   "source": [
    "The distribution of age is not perfectly clear but we can see a vast majority of users are between 45-50 years old."
   ]
  },
  {
   "cell_type": "code",
   "execution_count": 116,
   "id": "deb9196c-c44a-4c3e-949e-5670223e4dbd",
   "metadata": {},
   "outputs": [
    {
     "data": {
      "image/png": "[encoded data removed]",
      "text/plain": [
       "<Figure size 432x288 with 1 Axes>"
      ]
     },
     "metadata": {
      "needs_background": "light"
     },
     "output_type": "display_data"
    }
   ],
   "source": [
    "sns.histplot(df['age'], kde=True);"
   ]
  },
  {
   "cell_type": "markdown",
   "id": "f75a697b-7dc1-4d4c-9d85-e3776db62677",
   "metadata": {},
   "source": [
    "Comparing income to spending and removing folks who make over 200k, we can see a logarithmic increase in spending as income goes up, peaking between those who make $80k - 100k\n",
    "\n",
    "For our modeling purposes later we will need to consider removing the additional income outliers above $120k."
   ]
  },
  {
   "cell_type": "code",
   "execution_count": 117,
   "id": "43622d95-8217-4272-8339-2485f27d8807",
   "metadata": {},
   "outputs": [
    {
     "data": {
      "image/png": "[encoded data removed]",
      "text/plain": [
       "<Figure size 432x288 with 1 Axes>"
      ]
     },
     "metadata": {
      "needs_background": "light"
     },
     "output_type": "display_data"
    }
   ],
   "source": [
    "plt.scatter(cleaned_income['income'], cleaned_income['total_spent']);"
   ]
  },
  {
   "cell_type": "markdown",
   "id": "9a66dd52-688a-4a97-a390-a93161c6246b",
   "metadata": {},
   "source": [
    "I'm curious if there are any correlation between people purchasing certain items together, so we'll make a heatmap and examine those possible correlations.  These may be disposable correlations since people likely tend to buy multiple items, but the strongest correlations we might want to consider are:\n",
    "1. Wine and meat\n",
    "2. Fruit and fish\n",
    "3. Fruit and sweets\n",
    "4. "
   ]
  },
  {
   "cell_type": "code",
   "execution_count": 118,
   "id": "d9286caa-639e-482d-919f-9c2b6bddbf02",
   "metadata": {},
   "outputs": [
    {
     "data": {
      "image/png": "[encoded data removed]",
      "text/plain": [
       "<Figure size 720x720 with 2 Axes>"
      ]
     },
     "metadata": {
      "needs_background": "light"
     },
     "output_type": "display_data"
    }
   ],
   "source": [
    "corrmat= df.iloc[:, 5:10].corr()\n",
    "plt.figure(figsize=(10,10))  \n",
    "sns.heatmap(corrmat,annot=True, cmap='winter', center=0);"
   ]
  },
  {
   "cell_type": "code",
   "execution_count": 119,
   "id": "f5407932-9672-4023-971c-ad6917eacec6",
   "metadata": {},
   "outputs": [],
   "source": [
    "df = df[df['income'] < 120000]"
   ]
  },
  {
   "cell_type": "markdown",
   "id": "b246173c-6c1b-43fe-abc2-650fdc8d383b",
   "metadata": {},
   "source": [
    "### Pre-processing\n",
    "---"
   ]
  },
  {
   "cell_type": "markdown",
   "id": "95e82f5d-6969-4503-b500-895aefbdc57b",
   "metadata": {},
   "source": [
    "Before modeling there are a handful of things that need to happen:\n",
    "- Encode our non-numerical and categorical variables\n",
    "- Scale our data\n",
    "- Dimensionality reduction"
   ]
  },
  {
   "cell_type": "code",
   "execution_count": 120,
   "id": "68d07e19-c03e-4712-95ca-5734606892fc",
   "metadata": {},
   "outputs": [
    {
     "name": "stdout",
     "output_type": "stream",
     "text": [
      "<class 'pandas.core.frame.DataFrame'>\n",
      "Int64Index: 2232 entries, 0 to 2239\n",
      "Data columns (total 30 columns):\n",
      " #   Column               Non-Null Count  Dtype  \n",
      "---  ------               --------------  -----  \n",
      " 0   education            2232 non-null   object \n",
      " 1   income               2232 non-null   float64\n",
      " 2   kidhome              2232 non-null   int64  \n",
      " 3   teenhome             2232 non-null   int64  \n",
      " 4   recency              2232 non-null   int64  \n",
      " 5   mntwines             2232 non-null   int64  \n",
      " 6   mntfruits            2232 non-null   int64  \n",
      " 7   mntmeatproducts      2232 non-null   int64  \n",
      " 8   mntfishproducts      2232 non-null   int64  \n",
      " 9   mntsweetproducts     2232 non-null   int64  \n",
      " 10  mntgoldprods         2232 non-null   int64  \n",
      " 11  numdealspurchases    2232 non-null   int64  \n",
      " 12  numwebpurchases      2232 non-null   int64  \n",
      " 13  numcatalogpurchases  2232 non-null   int64  \n",
      " 14  numstorepurchases    2232 non-null   int64  \n",
      " 15  numwebvisitsmonth    2232 non-null   int64  \n",
      " 16  acceptedcmp3         2232 non-null   int64  \n",
      " 17  acceptedcmp4         2232 non-null   int64  \n",
      " 18  acceptedcmp5         2232 non-null   int64  \n",
      " 19  acceptedcmp1         2232 non-null   int64  \n",
      " 20  acceptedcmp2         2232 non-null   int64  \n",
      " 21  complain             2232 non-null   int64  \n",
      " 22  response             2232 non-null   int64  \n",
      " 23  acc_age              2232 non-null   int16  \n",
      " 24  total_children       2232 non-null   int64  \n",
      " 25  total_spent          2232 non-null   int64  \n",
      " 26  age                  2232 non-null   int64  \n",
      " 27  partner              2232 non-null   int64  \n",
      " 28  household_size       2232 non-null   int64  \n",
      " 29  parent               2232 non-null   int32  \n",
      "dtypes: float64(1), int16(1), int32(1), int64(26), object(1)\n",
      "memory usage: 518.8+ KB\n"
     ]
    }
   ],
   "source": [
    "df.info()"
   ]
  },
  {
   "cell_type": "markdown",
   "id": "301f99e3-b2c8-461e-887a-cb6a61196cee",
   "metadata": {},
   "source": [
    "Our only categorical column that needs to be dummied is income so we'll use Pandas' built in dummy feature to encode that column."
   ]
  },
  {
   "cell_type": "code",
   "execution_count": 121,
   "id": "9d2a2fbb-b3ad-4d31-9492-0dc585291c68",
   "metadata": {},
   "outputs": [
    {
     "data": {
      "text/html": [
       "<div>\n",
       "<style scoped>\n",
       "    .dataframe tbody tr th:only-of-type {\n",
       "        vertical-align: middle;\n",
       "    }\n",
       "\n",
       "    .dataframe tbody tr th {\n",
       "        vertical-align: top;\n",
       "    }\n",
       "\n",
       "    .dataframe thead th {\n",
       "        text-align: right;\n",
       "    }\n",
       "</style>\n",
       "<table border=\"1\" class=\"dataframe\">\n",
       "  <thead>\n",
       "    <tr style=\"text-align: right;\">\n",
       "      <th></th>\n",
       "      <th>income</th>\n",
       "      <th>kidhome</th>\n",
       "      <th>teenhome</th>\n",
       "      <th>recency</th>\n",
       "      <th>mntwines</th>\n",
       "      <th>mntfruits</th>\n",
       "      <th>mntmeatproducts</th>\n",
       "      <th>mntfishproducts</th>\n",
       "      <th>mntsweetproducts</th>\n",
       "      <th>mntgoldprods</th>\n",
       "      <th>...</th>\n",
       "      <th>total_spent</th>\n",
       "      <th>age</th>\n",
       "      <th>partner</th>\n",
       "      <th>household_size</th>\n",
       "      <th>parent</th>\n",
       "      <th>education_2n Cycle</th>\n",
       "      <th>education_Basic</th>\n",
       "      <th>education_Graduation</th>\n",
       "      <th>education_Master</th>\n",
       "      <th>education_PhD</th>\n",
       "    </tr>\n",
       "  </thead>\n",
       "  <tbody>\n",
       "    <tr>\n",
       "      <th>0</th>\n",
       "      <td>58138.0</td>\n",
       "      <td>0</td>\n",
       "      <td>0</td>\n",
       "      <td>58</td>\n",
       "      <td>635</td>\n",
       "      <td>88</td>\n",
       "      <td>546</td>\n",
       "      <td>172</td>\n",
       "      <td>88</td>\n",
       "      <td>88</td>\n",
       "      <td>...</td>\n",
       "      <td>1617</td>\n",
       "      <td>64</td>\n",
       "      <td>0</td>\n",
       "      <td>1</td>\n",
       "      <td>0</td>\n",
       "      <td>0</td>\n",
       "      <td>0</td>\n",
       "      <td>1</td>\n",
       "      <td>0</td>\n",
       "      <td>0</td>\n",
       "    </tr>\n",
       "    <tr>\n",
       "      <th>1</th>\n",
       "      <td>46344.0</td>\n",
       "      <td>1</td>\n",
       "      <td>1</td>\n",
       "      <td>38</td>\n",
       "      <td>11</td>\n",
       "      <td>1</td>\n",
       "      <td>6</td>\n",
       "      <td>2</td>\n",
       "      <td>1</td>\n",
       "      <td>6</td>\n",
       "      <td>...</td>\n",
       "      <td>27</td>\n",
       "      <td>67</td>\n",
       "      <td>0</td>\n",
       "      <td>3</td>\n",
       "      <td>1</td>\n",
       "      <td>0</td>\n",
       "      <td>0</td>\n",
       "      <td>1</td>\n",
       "      <td>0</td>\n",
       "      <td>0</td>\n",
       "    </tr>\n",
       "    <tr>\n",
       "      <th>2</th>\n",
       "      <td>71613.0</td>\n",
       "      <td>0</td>\n",
       "      <td>0</td>\n",
       "      <td>26</td>\n",
       "      <td>426</td>\n",
       "      <td>49</td>\n",
       "      <td>127</td>\n",
       "      <td>111</td>\n",
       "      <td>21</td>\n",
       "      <td>42</td>\n",
       "      <td>...</td>\n",
       "      <td>776</td>\n",
       "      <td>56</td>\n",
       "      <td>1</td>\n",
       "      <td>2</td>\n",
       "      <td>0</td>\n",
       "      <td>0</td>\n",
       "      <td>0</td>\n",
       "      <td>1</td>\n",
       "      <td>0</td>\n",
       "      <td>0</td>\n",
       "    </tr>\n",
       "    <tr>\n",
       "      <th>3</th>\n",
       "      <td>26646.0</td>\n",
       "      <td>1</td>\n",
       "      <td>0</td>\n",
       "      <td>26</td>\n",
       "      <td>11</td>\n",
       "      <td>4</td>\n",
       "      <td>20</td>\n",
       "      <td>10</td>\n",
       "      <td>3</td>\n",
       "      <td>5</td>\n",
       "      <td>...</td>\n",
       "      <td>53</td>\n",
       "      <td>37</td>\n",
       "      <td>1</td>\n",
       "      <td>3</td>\n",
       "      <td>0</td>\n",
       "      <td>0</td>\n",
       "      <td>0</td>\n",
       "      <td>1</td>\n",
       "      <td>0</td>\n",
       "      <td>0</td>\n",
       "    </tr>\n",
       "    <tr>\n",
       "      <th>4</th>\n",
       "      <td>58293.0</td>\n",
       "      <td>1</td>\n",
       "      <td>0</td>\n",
       "      <td>94</td>\n",
       "      <td>173</td>\n",
       "      <td>43</td>\n",
       "      <td>118</td>\n",
       "      <td>46</td>\n",
       "      <td>27</td>\n",
       "      <td>15</td>\n",
       "      <td>...</td>\n",
       "      <td>422</td>\n",
       "      <td>40</td>\n",
       "      <td>1</td>\n",
       "      <td>3</td>\n",
       "      <td>0</td>\n",
       "      <td>0</td>\n",
       "      <td>0</td>\n",
       "      <td>0</td>\n",
       "      <td>0</td>\n",
       "      <td>1</td>\n",
       "    </tr>\n",
       "  </tbody>\n",
       "</table>\n",
       "<p>5 rows × 34 columns</p>\n",
       "</div>"
      ],
      "text/plain": [
       "    income  kidhome  teenhome  recency  mntwines  mntfruits  mntmeatproducts  \\\n",
       "0  58138.0        0         0       58       635         88              546   \n",
       "1  46344.0        1         1       38        11          1                6   \n",
       "2  71613.0        0         0       26       426         49              127   \n",
       "3  26646.0        1         0       26        11          4               20   \n",
       "4  58293.0        1         0       94       173         43              118   \n",
       "\n",
       "   mntfishproducts  mntsweetproducts  mntgoldprods  ...  total_spent  age  \\\n",
       "0              172                88            88  ...         1617   64   \n",
       "1                2                 1             6  ...           27   67   \n",
       "2              111                21            42  ...          776   56   \n",
       "3               10                 3             5  ...           53   37   \n",
       "4               46                27            15  ...          422   40   \n",
       "\n",
       "   partner  household_size  parent  education_2n Cycle  education_Basic  \\\n",
       "0        0               1       0                   0                0   \n",
       "1        0               3       1                   0                0   \n",
       "2        1               2       0                   0                0   \n",
       "3        1               3       0                   0                0   \n",
       "4        1               3       0                   0                0   \n",
       "\n",
       "   education_Graduation  education_Master  education_PhD  \n",
       "0                     1                 0              0  \n",
       "1                     1                 0              0  \n",
       "2                     1                 0              0  \n",
       "3                     1                 0              0  \n",
       "4                     0                 0              1  \n",
       "\n",
       "[5 rows x 34 columns]"
      ]
     },
     "execution_count": 121,
     "metadata": {},
     "output_type": "execute_result"
    }
   ],
   "source": [
    "df = pd.get_dummies(df, columns=['education'])\n",
    "df.head()"
   ]
  },
  {
   "cell_type": "markdown",
   "id": "2806aab7-ce17-440b-a8af-89831d46f2ce",
   "metadata": {},
   "source": [
    "Next we will scale our data."
   ]
  },
  {
   "cell_type": "code",
   "execution_count": 134,
   "id": "1d0eda57-d7c1-4227-984e-c88c34abc8f9",
   "metadata": {},
   "outputs": [],
   "source": [
    "sc = MinMaxScaler()\n",
    "scaled_df = sc.fit_transform(df)"
   ]
  },
  {
   "cell_type": "markdown",
   "id": "ac413310-6b7e-4c37-b7eb-7400d402d6e8",
   "metadata": {},
   "source": [
    "We now have 34 total features, many of which are correlated and therefore unneccessary to us.  To refine our data we will perform PCA, or principal component analysis to find the most important features."
   ]
  },
  {
   "cell_type": "code",
   "execution_count": 147,
   "id": "8720a67a-b273-46a2-ba10-ad17649b0ce3",
   "metadata": {},
   "outputs": [],
   "source": [
    "pca = PCA(n_components = 0.95)\n",
    "pca.fit(scaled_df)\n",
    "reduced = pd.DataFrame(pca.transform(scaled_df))"
   ]
  },
  {
   "cell_type": "markdown",
   "id": "0d63c2b1-c15b-493c-b0d8-858f1e350e20",
   "metadata": {},
   "source": [
    "Since we will be clustering to find our different user groups, we want to find the ideal number of clusters.  We will use the elbow method to find this number.\n",
    "\n",
    "From the below graph, it appears that 5 will be the optimal number for us."
   ]
  },
  {
   "cell_type": "code",
   "execution_count": 149,
   "id": "63502dfe-a3af-4f7a-a79c-cfd7821f62de",
   "metadata": {},
   "outputs": [
    {
     "data": {
      "image/png": "[encoded data removed]",
      "text/plain": [
       "<Figure size 576x396 with 2 Axes>"
      ]
     },
     "metadata": {},
     "output_type": "display_data"
    }
   ],
   "source": [
    "Elbow_M = KElbowVisualizer(KMeans(), k=10)\n",
    "Elbow_M.fit(reduced)\n",
    "Elbow_M.show();"
   ]
  },
  {
   "cell_type": "code",
   "execution_count": 150,
   "id": "9262724f-111e-4f89-bd90-e83b06182134",
   "metadata": {},
   "outputs": [],
   "source": [
    "AC = AgglomerativeClustering(n_clusters=5)\n",
    "\n",
    "yhat_AC = AC.fit_predict(reduced)\n",
    "reduced[\"Clusters\"] = yhat_AC\n",
    "\n",
    "df[\"Clusters\"]= yhat_AC"
   ]
  },
  {
   "cell_type": "code",
   "execution_count": null,
   "id": "1e261ee1-4358-4bba-8371-5eaf6a50d2d7",
   "metadata": {},
   "outputs": [],
   "source": []
  },
  {
   "cell_type": "code",
   "execution_count": 153,
   "id": "78c1659f-2248-4702-9b80-7d1de99ecfb3",
   "metadata": {},
   "outputs": [
    {
     "ename": "TypeError",
     "evalue": "scatter() missing 2 required positional arguments: 'xs' and 'ys'",
     "output_type": "error",
     "traceback": [
      "\u001b[1;31m---------------------------------------------------------------------------\u001b[0m",
      "\u001b[1;31mTypeError\u001b[0m                                 Traceback (most recent call last)",
      "\u001b[1;32m<ipython-input-153-b656ecd4ecb6>\u001b[0m in \u001b[0;36m<module>\u001b[1;34m\u001b[0m\n\u001b[0;32m      1\u001b[0m \u001b[0mfig\u001b[0m \u001b[1;33m=\u001b[0m \u001b[0mplt\u001b[0m\u001b[1;33m.\u001b[0m\u001b[0mfigure\u001b[0m\u001b[1;33m(\u001b[0m\u001b[0mfigsize\u001b[0m\u001b[1;33m=\u001b[0m\u001b[1;33m(\u001b[0m\u001b[1;36m10\u001b[0m\u001b[1;33m,\u001b[0m\u001b[1;36m8\u001b[0m\u001b[1;33m)\u001b[0m\u001b[1;33m)\u001b[0m\u001b[1;33m\u001b[0m\u001b[1;33m\u001b[0m\u001b[0m\n\u001b[0;32m      2\u001b[0m \u001b[0max\u001b[0m \u001b[1;33m=\u001b[0m \u001b[0mplt\u001b[0m\u001b[1;33m.\u001b[0m\u001b[0msubplot\u001b[0m\u001b[1;33m(\u001b[0m\u001b[1;36m111\u001b[0m\u001b[1;33m,\u001b[0m \u001b[0mprojection\u001b[0m\u001b[1;33m=\u001b[0m\u001b[1;34m'3d'\u001b[0m\u001b[1;33m,\u001b[0m \u001b[0mlabel\u001b[0m\u001b[1;33m=\u001b[0m\u001b[1;34m\"bla\"\u001b[0m\u001b[1;33m)\u001b[0m\u001b[1;33m\u001b[0m\u001b[1;33m\u001b[0m\u001b[0m\n\u001b[1;32m----> 3\u001b[1;33m \u001b[0max\u001b[0m\u001b[1;33m.\u001b[0m\u001b[0mscatter\u001b[0m\u001b[1;33m(\u001b[0m\u001b[0ms\u001b[0m\u001b[1;33m=\u001b[0m\u001b[1;36m40\u001b[0m\u001b[1;33m,\u001b[0m \u001b[0mc\u001b[0m\u001b[1;33m=\u001b[0m\u001b[0mreduced\u001b[0m\u001b[1;33m[\u001b[0m\u001b[1;34m\"Clusters\"\u001b[0m\u001b[1;33m]\u001b[0m\u001b[1;33m,\u001b[0m \u001b[0mmarker\u001b[0m\u001b[1;33m=\u001b[0m\u001b[1;34m'o'\u001b[0m\u001b[1;33m)\u001b[0m\u001b[1;33m\u001b[0m\u001b[1;33m\u001b[0m\u001b[0m\n\u001b[0m\u001b[0;32m      4\u001b[0m \u001b[0max\u001b[0m\u001b[1;33m.\u001b[0m\u001b[0mset_title\u001b[0m\u001b[1;33m(\u001b[0m\u001b[1;34m\"The Plot Of The Clusters\"\u001b[0m\u001b[1;33m)\u001b[0m\u001b[1;33m\u001b[0m\u001b[1;33m\u001b[0m\u001b[0m\n\u001b[0;32m      5\u001b[0m \u001b[0mplt\u001b[0m\u001b[1;33m.\u001b[0m\u001b[0mshow\u001b[0m\u001b[1;33m(\u001b[0m\u001b[1;33m)\u001b[0m\u001b[1;33m\u001b[0m\u001b[1;33m\u001b[0m\u001b[0m\n",
      "\u001b[1;31mTypeError\u001b[0m: scatter() missing 2 required positional arguments: 'xs' and 'ys'"
     ]
    },
    {
     "data": {
      "image/png": "[encoded data removed]",
      "text/plain": [
       "<Figure size 720x576 with 1 Axes>"
      ]
     },
     "metadata": {},
     "output_type": "display_data"
    }
   ],
   "source": [
    "fig = plt.figure(figsize=(10,8))\n",
    "ax = plt.subplot(111, projection='3d', label=\"bla\")\n",
    "ax.scatter(s=40, c=reduced[\"Clusters\"], marker='o')\n",
    "ax.set_title(\"The Plot Of The Clusters\")\n",
    "plt.show()"
   ]
  }
 ],
 "metadata": {
  "kernelspec": {
   "display_name": "Python [conda env:dsi]",
   "language": "python",
   "name": "conda-env-dsi-py"
  },
  "language_info": {
   "codemirror_mode": {
    "name": "ipython",
    "version": 3
   },
   "file_extension": ".py",
   "mimetype": "text/x-python",
   "name": "python",
   "nbconvert_exporter": "python",
   "pygments_lexer": "ipython3",
   "version": "3.8.8"
  }
 },
 "nbformat": 4,
 "nbformat_minor": 5
}
